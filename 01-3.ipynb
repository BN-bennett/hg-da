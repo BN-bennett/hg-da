{
 "cells": [
  {
   "cell_type": "markdown",
   "id": "2555bae8",
   "metadata": {},
   "source": [
    "# 01-3 이 도서가 얼마나 인기가 좋을까요?"
   ]
  },
  {
   "cell_type": "markdown",
   "id": "aef39db3",
   "metadata": {},
   "source": [
    "<table class=\"tfo-notebook-buttons\" align=\"left\">\n",
    "  <td>\n",
    "    <a target=\"_blank\" href=\"https://nbviewer.jupyter.org/github/rickiepark/hg-da/blob/main/01-3.ipynb\"><img src=\"https://jupyter.org/assets/main-logo.svg\" width=\"28\" />주피터 노트북 뷰어로 보기</a>\n",
    "  </td>\n",
    "  <td>\n",
    "    <a target=\"_blank\" href=\"https://colab.research.google.com/github/rickiepark/main/01-3.ipynb\"><img src=\"https://www.tensorflow.org/images/colab_logo_32px.png\" />구글 코랩(Colab)에서 실행하기</a>\n",
    "  </td>\n",
    "</table>"
   ]
  },
  {
   "cell_type": "markdown",
   "id": "71a843a2",
   "metadata": {},
   "source": [
    "## 도서 관련 데이터 찾기"
   ]
  },
  {
   "cell_type": "markdown",
   "id": "c80d2d6b",
   "metadata": {},
   "source": [
    "[공공데이터포털](https://www.data.go.kr/)\n",
    "\n",
    "도서관 정보나루의 [남산도서관 장서/대출 목록](https://www.data4library.kr/openDataV?libcode=4707)"
   ]
  },
  {
   "cell_type": "markdown",
   "id": "a9cefb72",
   "metadata": {},
   "source": [
    "## CSV vs 엑셀"
   ]
  },
  {
   "cell_type": "code",
   "execution_count": 1,
   "id": "10917f6a",
   "metadata": {},
   "outputs": [
    {
     "name": "stderr",
     "output_type": "stream",
     "text": [
      "Downloading...\n",
      "From: https://bit.ly/3wLclvJ\n",
      "To: /Users/haesun/github/hg-da/남산도서관 장서 대출목록 (2021년 04월).csv\n",
      "58.1MB [00:05, 10.8MB/s]\n"
     ]
    },
    {
     "data": {
      "text/plain": [
       "'남산도서관 장서 대출목록 (2021년 04월).csv'"
      ]
     },
     "execution_count": 1,
     "metadata": {},
     "output_type": "execute_result"
    }
   ],
   "source": [
    "import gdown\n",
    "\n",
    "gdown.download('https://bit.ly/namsan_csv', \n",
    "               '남산도서관 장서 대출목록 (2021년 04월).csv', quiet=False)"
   ]
  },
  {
   "cell_type": "markdown",
   "id": "23ea86f9",
   "metadata": {},
   "source": [
    "## 파이썬으로 CSV 파일 출력하기"
   ]
  },
  {
   "cell_type": "code",
   "execution_count": 2,
   "id": "a65810be",
   "metadata": {
    "scrolled": false
   },
   "outputs": [
    {
     "ename": "UnicodeDecodeError",
     "evalue": "'utf-8' codec can't decode byte 0xb9 in position 0: invalid start byte",
     "output_type": "error",
     "traceback": [
      "\u001b[0;31m---------------------------------------------------------------------------\u001b[0m",
      "\u001b[0;31mUnicodeDecodeError\u001b[0m                        Traceback (most recent call last)",
      "\u001b[0;32m<ipython-input-2-11f2049e611f>\u001b[0m in \u001b[0;36m<module>\u001b[0;34m\u001b[0m\n\u001b[1;32m      1\u001b[0m \u001b[0;32mwith\u001b[0m \u001b[0mopen\u001b[0m\u001b[0;34m(\u001b[0m\u001b[0;34m'남산도서관 장서 대출목록 (2021년 04월).csv'\u001b[0m\u001b[0;34m)\u001b[0m \u001b[0;32mas\u001b[0m \u001b[0mf\u001b[0m\u001b[0;34m:\u001b[0m\u001b[0;34m\u001b[0m\u001b[0;34m\u001b[0m\u001b[0m\n\u001b[0;32m----> 2\u001b[0;31m     \u001b[0mprint\u001b[0m\u001b[0;34m(\u001b[0m\u001b[0mf\u001b[0m\u001b[0;34m.\u001b[0m\u001b[0mreadline\u001b[0m\u001b[0;34m(\u001b[0m\u001b[0;34m)\u001b[0m\u001b[0;34m)\u001b[0m\u001b[0;34m\u001b[0m\u001b[0;34m\u001b[0m\u001b[0m\n\u001b[0m",
      "\u001b[0;32m~/anaconda3/lib/python3.7/codecs.py\u001b[0m in \u001b[0;36mdecode\u001b[0;34m(self, input, final)\u001b[0m\n\u001b[1;32m    320\u001b[0m         \u001b[0;31m# decode input (taking the buffer into account)\u001b[0m\u001b[0;34m\u001b[0m\u001b[0;34m\u001b[0m\u001b[0;34m\u001b[0m\u001b[0m\n\u001b[1;32m    321\u001b[0m         \u001b[0mdata\u001b[0m \u001b[0;34m=\u001b[0m \u001b[0mself\u001b[0m\u001b[0;34m.\u001b[0m\u001b[0mbuffer\u001b[0m \u001b[0;34m+\u001b[0m \u001b[0minput\u001b[0m\u001b[0;34m\u001b[0m\u001b[0;34m\u001b[0m\u001b[0m\n\u001b[0;32m--> 322\u001b[0;31m         \u001b[0;34m(\u001b[0m\u001b[0mresult\u001b[0m\u001b[0;34m,\u001b[0m \u001b[0mconsumed\u001b[0m\u001b[0;34m)\u001b[0m \u001b[0;34m=\u001b[0m \u001b[0mself\u001b[0m\u001b[0;34m.\u001b[0m\u001b[0m_buffer_decode\u001b[0m\u001b[0;34m(\u001b[0m\u001b[0mdata\u001b[0m\u001b[0;34m,\u001b[0m \u001b[0mself\u001b[0m\u001b[0;34m.\u001b[0m\u001b[0merrors\u001b[0m\u001b[0;34m,\u001b[0m \u001b[0mfinal\u001b[0m\u001b[0;34m)\u001b[0m\u001b[0;34m\u001b[0m\u001b[0;34m\u001b[0m\u001b[0m\n\u001b[0m\u001b[1;32m    323\u001b[0m         \u001b[0;31m# keep undecoded input until the next call\u001b[0m\u001b[0;34m\u001b[0m\u001b[0;34m\u001b[0m\u001b[0;34m\u001b[0m\u001b[0m\n\u001b[1;32m    324\u001b[0m         \u001b[0mself\u001b[0m\u001b[0;34m.\u001b[0m\u001b[0mbuffer\u001b[0m \u001b[0;34m=\u001b[0m \u001b[0mdata\u001b[0m\u001b[0;34m[\u001b[0m\u001b[0mconsumed\u001b[0m\u001b[0;34m:\u001b[0m\u001b[0;34m]\u001b[0m\u001b[0;34m\u001b[0m\u001b[0;34m\u001b[0m\u001b[0m\n",
      "\u001b[0;31mUnicodeDecodeError\u001b[0m: 'utf-8' codec can't decode byte 0xb9 in position 0: invalid start byte"
     ]
    }
   ],
   "source": [
    "with open('남산도서관 장서 대출목록 (2021년 04월).csv') as f:\n",
    "    print(f.readline())"
   ]
  },
  {
   "cell_type": "code",
   "execution_count": 3,
   "id": "7c940d42",
   "metadata": {},
   "outputs": [
    {
     "name": "stdout",
     "output_type": "stream",
     "text": [
      "{'encoding': 'EUC-KR', 'confidence': 0.99, 'language': 'Korean'}\n"
     ]
    }
   ],
   "source": [
    "import chardet\n",
    "\n",
    "with open('남산도서관 장서 대출목록 (2021년 04월).csv', mode='rb') as f:\n",
    "    d = f.readline()\n",
    "\n",
    "print(chardet.detect(d))"
   ]
  },
  {
   "cell_type": "code",
   "execution_count": 4,
   "id": "75fab1e4",
   "metadata": {
    "scrolled": true
   },
   "outputs": [
    {
     "name": "stdout",
     "output_type": "stream",
     "text": [
      "번호,도서명,저자,출판사,발행년도,ISBN,세트 ISBN,부가기호,권,주제분류번호,도서권수,대출건수,등록일자,\n",
      "\n",
      "\"1\",\"인공지능과 흙\",\"김동훈 지음\",\"민음사\",\"2021\",\"9788937444319\",\"\",\"\",\"\",\"\",\"1\",\"0\",\"2021-03-19\",\n",
      "\n"
     ]
    }
   ],
   "source": [
    "with open('남산도서관 장서 대출목록 (2021년 04월).csv', encoding='euc-kr') as f:\n",
    "    print(f.readline())\n",
    "    print(f.readline())"
   ]
  },
  {
   "cell_type": "code",
   "execution_count": 5,
   "id": "d38f10da",
   "metadata": {},
   "outputs": [],
   "source": [
    "import os\n",
    "import glob\n",
    "import unicodedata\n",
    "\n",
    "for filename in glob.glob('*.csv'):\n",
    "  nfc_filename = unicodedata.normalize('NFC', filename)\n",
    "  os.rename(filename, nfc_filename)"
   ]
  },
  {
   "cell_type": "markdown",
   "id": "3a94c06a",
   "metadata": {},
   "source": [
    "## CSV 파일을 데이터프레임으로 읽기"
   ]
  },
  {
   "cell_type": "code",
   "execution_count": 6,
   "id": "64277cbc",
   "metadata": {},
   "outputs": [],
   "source": [
    "import pandas as pd"
   ]
  },
  {
   "cell_type": "code",
   "execution_count": 7,
   "id": "774bffe5",
   "metadata": {
    "scrolled": true
   },
   "outputs": [
    {
     "name": "stderr",
     "output_type": "stream",
     "text": [
      "/Users/haesun/github/hg-da/.env/lib/python3.7/site-packages/IPython/core/interactiveshell.py:3170: DtypeWarning: Columns (5,6,9) have mixed types.Specify dtype option on import or set low_memory=False.\n",
      "  interactivity=interactivity, compiler=compiler, result=result)\n"
     ]
    }
   ],
   "source": [
    "df = pd.read_csv('남산도서관 장서 대출목록 (2021년 04월).csv', encoding='euc-kr')"
   ]
  },
  {
   "cell_type": "code",
   "execution_count": 8,
   "id": "568250e2",
   "metadata": {
    "scrolled": true
   },
   "outputs": [],
   "source": [
    "df = pd.read_csv('남산도서관 장서 대출목록 (2021년 04월).csv', encoding='euc-kr',\n",
    "                 low_memory=False)"
   ]
  },
  {
   "cell_type": "code",
   "execution_count": 9,
   "id": "9c72683e",
   "metadata": {
    "scrolled": false
   },
   "outputs": [
    {
     "data": {
      "text/html": [
       "<div>\n",
       "<style scoped>\n",
       "    .dataframe tbody tr th:only-of-type {\n",
       "        vertical-align: middle;\n",
       "    }\n",
       "\n",
       "    .dataframe tbody tr th {\n",
       "        vertical-align: top;\n",
       "    }\n",
       "\n",
       "    .dataframe thead th {\n",
       "        text-align: right;\n",
       "    }\n",
       "</style>\n",
       "<table border=\"1\" class=\"dataframe\">\n",
       "  <thead>\n",
       "    <tr style=\"text-align: right;\">\n",
       "      <th></th>\n",
       "      <th>번호</th>\n",
       "      <th>도서명</th>\n",
       "      <th>저자</th>\n",
       "      <th>출판사</th>\n",
       "      <th>발행년도</th>\n",
       "      <th>ISBN</th>\n",
       "      <th>세트 ISBN</th>\n",
       "      <th>부가기호</th>\n",
       "      <th>권</th>\n",
       "      <th>주제분류번호</th>\n",
       "      <th>도서권수</th>\n",
       "      <th>대출건수</th>\n",
       "      <th>등록일자</th>\n",
       "      <th>Unnamed: 13</th>\n",
       "    </tr>\n",
       "  </thead>\n",
       "  <tbody>\n",
       "    <tr>\n",
       "      <th>0</th>\n",
       "      <td>1</td>\n",
       "      <td>인공지능과 흙</td>\n",
       "      <td>김동훈 지음</td>\n",
       "      <td>민음사</td>\n",
       "      <td>2021</td>\n",
       "      <td>9788937444319</td>\n",
       "      <td>NaN</td>\n",
       "      <td>NaN</td>\n",
       "      <td>NaN</td>\n",
       "      <td>NaN</td>\n",
       "      <td>1</td>\n",
       "      <td>0</td>\n",
       "      <td>2021-03-19</td>\n",
       "      <td>NaN</td>\n",
       "    </tr>\n",
       "    <tr>\n",
       "      <th>1</th>\n",
       "      <td>2</td>\n",
       "      <td>가짜 행복 권하는 사회</td>\n",
       "      <td>김태형 지음</td>\n",
       "      <td>갈매나무</td>\n",
       "      <td>2021</td>\n",
       "      <td>9791190123969</td>\n",
       "      <td>NaN</td>\n",
       "      <td>NaN</td>\n",
       "      <td>NaN</td>\n",
       "      <td>NaN</td>\n",
       "      <td>1</td>\n",
       "      <td>0</td>\n",
       "      <td>2021-03-19</td>\n",
       "      <td>NaN</td>\n",
       "    </tr>\n",
       "    <tr>\n",
       "      <th>2</th>\n",
       "      <td>3</td>\n",
       "      <td>나도 한 문장 잘 쓰면 바랄 게 없겠네</td>\n",
       "      <td>김선영 지음</td>\n",
       "      <td>블랙피쉬</td>\n",
       "      <td>2021</td>\n",
       "      <td>9788968332982</td>\n",
       "      <td>NaN</td>\n",
       "      <td>NaN</td>\n",
       "      <td>NaN</td>\n",
       "      <td>NaN</td>\n",
       "      <td>1</td>\n",
       "      <td>0</td>\n",
       "      <td>2021-03-19</td>\n",
       "      <td>NaN</td>\n",
       "    </tr>\n",
       "    <tr>\n",
       "      <th>3</th>\n",
       "      <td>4</td>\n",
       "      <td>예루살렘 해변</td>\n",
       "      <td>이도 게펜 지음, 임재희 옮김</td>\n",
       "      <td>문학세계사</td>\n",
       "      <td>2021</td>\n",
       "      <td>9788970759906</td>\n",
       "      <td>NaN</td>\n",
       "      <td>NaN</td>\n",
       "      <td>NaN</td>\n",
       "      <td>NaN</td>\n",
       "      <td>1</td>\n",
       "      <td>0</td>\n",
       "      <td>2021-03-19</td>\n",
       "      <td>NaN</td>\n",
       "    </tr>\n",
       "    <tr>\n",
       "      <th>4</th>\n",
       "      <td>5</td>\n",
       "      <td>김성곤의 중국한시기행 : 장강·황하 편</td>\n",
       "      <td>김성곤 지음</td>\n",
       "      <td>김영사</td>\n",
       "      <td>2021</td>\n",
       "      <td>9788934990833</td>\n",
       "      <td>NaN</td>\n",
       "      <td>NaN</td>\n",
       "      <td>NaN</td>\n",
       "      <td>NaN</td>\n",
       "      <td>1</td>\n",
       "      <td>0</td>\n",
       "      <td>2021-03-19</td>\n",
       "      <td>NaN</td>\n",
       "    </tr>\n",
       "  </tbody>\n",
       "</table>\n",
       "</div>"
      ],
      "text/plain": [
       "   번호                    도서명                저자    출판사  발행년도           ISBN  \\\n",
       "0   1                인공지능과 흙            김동훈 지음    민음사  2021  9788937444319   \n",
       "1   2           가짜 행복 권하는 사회            김태형 지음   갈매나무  2021  9791190123969   \n",
       "2   3  나도 한 문장 잘 쓰면 바랄 게 없겠네            김선영 지음   블랙피쉬  2021  9788968332982   \n",
       "3   4                예루살렘 해변  이도 게펜 지음, 임재희 옮김  문학세계사  2021  9788970759906   \n",
       "4   5  김성곤의 중국한시기행 : 장강·황하 편            김성곤 지음    김영사  2021  9788934990833   \n",
       "\n",
       "  세트 ISBN 부가기호    권 주제분류번호  도서권수  대출건수        등록일자  Unnamed: 13  \n",
       "0     NaN  NaN  NaN    NaN     1     0  2021-03-19          NaN  \n",
       "1     NaN  NaN  NaN    NaN     1     0  2021-03-19          NaN  \n",
       "2     NaN  NaN  NaN    NaN     1     0  2021-03-19          NaN  \n",
       "3     NaN  NaN  NaN    NaN     1     0  2021-03-19          NaN  \n",
       "4     NaN  NaN  NaN    NaN     1     0  2021-03-19          NaN  "
      ]
     },
     "execution_count": 9,
     "metadata": {},
     "output_type": "execute_result"
    }
   ],
   "source": [
    "df.head()"
   ]
  },
  {
   "cell_type": "markdown",
   "id": "e6920214",
   "metadata": {},
   "source": [
    "`low_memory=False` 대신 `dtype` 지정"
   ]
  },
  {
   "cell_type": "code",
   "execution_count": 10,
   "id": "97724412",
   "metadata": {},
   "outputs": [
    {
     "data": {
      "text/html": [
       "<div>\n",
       "<style scoped>\n",
       "    .dataframe tbody tr th:only-of-type {\n",
       "        vertical-align: middle;\n",
       "    }\n",
       "\n",
       "    .dataframe tbody tr th {\n",
       "        vertical-align: top;\n",
       "    }\n",
       "\n",
       "    .dataframe thead th {\n",
       "        text-align: right;\n",
       "    }\n",
       "</style>\n",
       "<table border=\"1\" class=\"dataframe\">\n",
       "  <thead>\n",
       "    <tr style=\"text-align: right;\">\n",
       "      <th></th>\n",
       "      <th>번호</th>\n",
       "      <th>도서명</th>\n",
       "      <th>저자</th>\n",
       "      <th>출판사</th>\n",
       "      <th>발행년도</th>\n",
       "      <th>ISBN</th>\n",
       "      <th>세트 ISBN</th>\n",
       "      <th>부가기호</th>\n",
       "      <th>권</th>\n",
       "      <th>주제분류번호</th>\n",
       "      <th>도서권수</th>\n",
       "      <th>대출건수</th>\n",
       "      <th>등록일자</th>\n",
       "      <th>Unnamed: 13</th>\n",
       "    </tr>\n",
       "  </thead>\n",
       "  <tbody>\n",
       "    <tr>\n",
       "      <th>0</th>\n",
       "      <td>1</td>\n",
       "      <td>인공지능과 흙</td>\n",
       "      <td>김동훈 지음</td>\n",
       "      <td>민음사</td>\n",
       "      <td>2021</td>\n",
       "      <td>9788937444319</td>\n",
       "      <td>NaN</td>\n",
       "      <td>NaN</td>\n",
       "      <td>NaN</td>\n",
       "      <td>NaN</td>\n",
       "      <td>1</td>\n",
       "      <td>0</td>\n",
       "      <td>2021-03-19</td>\n",
       "      <td>NaN</td>\n",
       "    </tr>\n",
       "    <tr>\n",
       "      <th>1</th>\n",
       "      <td>2</td>\n",
       "      <td>가짜 행복 권하는 사회</td>\n",
       "      <td>김태형 지음</td>\n",
       "      <td>갈매나무</td>\n",
       "      <td>2021</td>\n",
       "      <td>9791190123969</td>\n",
       "      <td>NaN</td>\n",
       "      <td>NaN</td>\n",
       "      <td>NaN</td>\n",
       "      <td>NaN</td>\n",
       "      <td>1</td>\n",
       "      <td>0</td>\n",
       "      <td>2021-03-19</td>\n",
       "      <td>NaN</td>\n",
       "    </tr>\n",
       "    <tr>\n",
       "      <th>2</th>\n",
       "      <td>3</td>\n",
       "      <td>나도 한 문장 잘 쓰면 바랄 게 없겠네</td>\n",
       "      <td>김선영 지음</td>\n",
       "      <td>블랙피쉬</td>\n",
       "      <td>2021</td>\n",
       "      <td>9788968332982</td>\n",
       "      <td>NaN</td>\n",
       "      <td>NaN</td>\n",
       "      <td>NaN</td>\n",
       "      <td>NaN</td>\n",
       "      <td>1</td>\n",
       "      <td>0</td>\n",
       "      <td>2021-03-19</td>\n",
       "      <td>NaN</td>\n",
       "    </tr>\n",
       "    <tr>\n",
       "      <th>3</th>\n",
       "      <td>4</td>\n",
       "      <td>예루살렘 해변</td>\n",
       "      <td>이도 게펜 지음, 임재희 옮김</td>\n",
       "      <td>문학세계사</td>\n",
       "      <td>2021</td>\n",
       "      <td>9788970759906</td>\n",
       "      <td>NaN</td>\n",
       "      <td>NaN</td>\n",
       "      <td>NaN</td>\n",
       "      <td>NaN</td>\n",
       "      <td>1</td>\n",
       "      <td>0</td>\n",
       "      <td>2021-03-19</td>\n",
       "      <td>NaN</td>\n",
       "    </tr>\n",
       "    <tr>\n",
       "      <th>4</th>\n",
       "      <td>5</td>\n",
       "      <td>김성곤의 중국한시기행 : 장강·황하 편</td>\n",
       "      <td>김성곤 지음</td>\n",
       "      <td>김영사</td>\n",
       "      <td>2021</td>\n",
       "      <td>9788934990833</td>\n",
       "      <td>NaN</td>\n",
       "      <td>NaN</td>\n",
       "      <td>NaN</td>\n",
       "      <td>NaN</td>\n",
       "      <td>1</td>\n",
       "      <td>0</td>\n",
       "      <td>2021-03-19</td>\n",
       "      <td>NaN</td>\n",
       "    </tr>\n",
       "  </tbody>\n",
       "</table>\n",
       "</div>"
      ],
      "text/plain": [
       "   번호                    도서명                저자    출판사  발행년도           ISBN  \\\n",
       "0   1                인공지능과 흙            김동훈 지음    민음사  2021  9788937444319   \n",
       "1   2           가짜 행복 권하는 사회            김태형 지음   갈매나무  2021  9791190123969   \n",
       "2   3  나도 한 문장 잘 쓰면 바랄 게 없겠네            김선영 지음   블랙피쉬  2021  9788968332982   \n",
       "3   4                예루살렘 해변  이도 게펜 지음, 임재희 옮김  문학세계사  2021  9788970759906   \n",
       "4   5  김성곤의 중국한시기행 : 장강·황하 편            김성곤 지음    김영사  2021  9788934990833   \n",
       "\n",
       "  세트 ISBN 부가기호    권 주제분류번호  도서권수  대출건수        등록일자  Unnamed: 13  \n",
       "0     NaN  NaN  NaN    NaN     1     0  2021-03-19          NaN  \n",
       "1     NaN  NaN  NaN    NaN     1     0  2021-03-19          NaN  \n",
       "2     NaN  NaN  NaN    NaN     1     0  2021-03-19          NaN  \n",
       "3     NaN  NaN  NaN    NaN     1     0  2021-03-19          NaN  \n",
       "4     NaN  NaN  NaN    NaN     1     0  2021-03-19          NaN  "
      ]
     },
     "execution_count": 10,
     "metadata": {},
     "output_type": "execute_result"
    }
   ],
   "source": [
    "df = pd.read_csv('남산도서관 장서 대출목록 (2021년 04월).csv', encoding='euc-kr',\n",
    "                 dtype={'ISBN': str, '세트 ISBN': str, '주제분류번호': str})\n",
    "df.head()"
   ]
  },
  {
   "cell_type": "markdown",
   "id": "d7f6a1bc",
   "metadata": {},
   "source": [
    "## 데이터프레임을 CSV 파일로 저장하기"
   ]
  },
  {
   "cell_type": "markdown",
   "id": "6b18f91a",
   "metadata": {},
   "source": [
    "데이터프레임을 CSV 파일로 저장"
   ]
  },
  {
   "cell_type": "code",
   "execution_count": 11,
   "id": "a509c674",
   "metadata": {},
   "outputs": [],
   "source": [
    "df.to_csv('ns_202104.csv')"
   ]
  },
  {
   "cell_type": "markdown",
   "id": "c57a40bd",
   "metadata": {},
   "source": [
    "인덱스까지 저장됨"
   ]
  },
  {
   "cell_type": "code",
   "execution_count": 12,
   "id": "6b27028d",
   "metadata": {
    "scrolled": true
   },
   "outputs": [
    {
     "name": "stdout",
     "output_type": "stream",
     "text": [
      ",번호,도서명,저자,출판사,발행년도,ISBN,세트 ISBN,부가기호,권,주제분류번호,도서권수,대출건수,등록일자,Unnamed: 13\n",
      "0,1,인공지능과 흙,김동훈 지음,민음사,2021,9788937444319,,,,,1,0,2021-03-19,\n",
      "1,2,가짜 행복 권하는 사회,김태형 지음,갈매나무,2021,9791190123969,,,,,1,0,2021-03-19,\n"
     ]
    }
   ],
   "source": [
    "with open('ns_202104.csv') as f:\n",
    "    for i in range(3): print(f.readline(), end='')"
   ]
  },
  {
   "cell_type": "markdown",
   "id": "db0fdf51",
   "metadata": {},
   "source": [
    "데이터프레임을 읽을 때 CSV에 저장된 인덱스를 인식하지 못함"
   ]
  },
  {
   "cell_type": "code",
   "execution_count": 13,
   "id": "b6958d61",
   "metadata": {},
   "outputs": [
    {
     "data": {
      "text/html": [
       "<div>\n",
       "<style scoped>\n",
       "    .dataframe tbody tr th:only-of-type {\n",
       "        vertical-align: middle;\n",
       "    }\n",
       "\n",
       "    .dataframe tbody tr th {\n",
       "        vertical-align: top;\n",
       "    }\n",
       "\n",
       "    .dataframe thead th {\n",
       "        text-align: right;\n",
       "    }\n",
       "</style>\n",
       "<table border=\"1\" class=\"dataframe\">\n",
       "  <thead>\n",
       "    <tr style=\"text-align: right;\">\n",
       "      <th></th>\n",
       "      <th>Unnamed: 0</th>\n",
       "      <th>번호</th>\n",
       "      <th>도서명</th>\n",
       "      <th>저자</th>\n",
       "      <th>출판사</th>\n",
       "      <th>발행년도</th>\n",
       "      <th>ISBN</th>\n",
       "      <th>세트 ISBN</th>\n",
       "      <th>부가기호</th>\n",
       "      <th>권</th>\n",
       "      <th>주제분류번호</th>\n",
       "      <th>도서권수</th>\n",
       "      <th>대출건수</th>\n",
       "      <th>등록일자</th>\n",
       "      <th>Unnamed: 13</th>\n",
       "    </tr>\n",
       "  </thead>\n",
       "  <tbody>\n",
       "    <tr>\n",
       "      <th>0</th>\n",
       "      <td>0</td>\n",
       "      <td>1</td>\n",
       "      <td>인공지능과 흙</td>\n",
       "      <td>김동훈 지음</td>\n",
       "      <td>민음사</td>\n",
       "      <td>2021</td>\n",
       "      <td>9788937444319</td>\n",
       "      <td>NaN</td>\n",
       "      <td>NaN</td>\n",
       "      <td>NaN</td>\n",
       "      <td>NaN</td>\n",
       "      <td>1</td>\n",
       "      <td>0</td>\n",
       "      <td>2021-03-19</td>\n",
       "      <td>NaN</td>\n",
       "    </tr>\n",
       "    <tr>\n",
       "      <th>1</th>\n",
       "      <td>1</td>\n",
       "      <td>2</td>\n",
       "      <td>가짜 행복 권하는 사회</td>\n",
       "      <td>김태형 지음</td>\n",
       "      <td>갈매나무</td>\n",
       "      <td>2021</td>\n",
       "      <td>9791190123969</td>\n",
       "      <td>NaN</td>\n",
       "      <td>NaN</td>\n",
       "      <td>NaN</td>\n",
       "      <td>NaN</td>\n",
       "      <td>1</td>\n",
       "      <td>0</td>\n",
       "      <td>2021-03-19</td>\n",
       "      <td>NaN</td>\n",
       "    </tr>\n",
       "    <tr>\n",
       "      <th>2</th>\n",
       "      <td>2</td>\n",
       "      <td>3</td>\n",
       "      <td>나도 한 문장 잘 쓰면 바랄 게 없겠네</td>\n",
       "      <td>김선영 지음</td>\n",
       "      <td>블랙피쉬</td>\n",
       "      <td>2021</td>\n",
       "      <td>9788968332982</td>\n",
       "      <td>NaN</td>\n",
       "      <td>NaN</td>\n",
       "      <td>NaN</td>\n",
       "      <td>NaN</td>\n",
       "      <td>1</td>\n",
       "      <td>0</td>\n",
       "      <td>2021-03-19</td>\n",
       "      <td>NaN</td>\n",
       "    </tr>\n",
       "    <tr>\n",
       "      <th>3</th>\n",
       "      <td>3</td>\n",
       "      <td>4</td>\n",
       "      <td>예루살렘 해변</td>\n",
       "      <td>이도 게펜 지음, 임재희 옮김</td>\n",
       "      <td>문학세계사</td>\n",
       "      <td>2021</td>\n",
       "      <td>9788970759906</td>\n",
       "      <td>NaN</td>\n",
       "      <td>NaN</td>\n",
       "      <td>NaN</td>\n",
       "      <td>NaN</td>\n",
       "      <td>1</td>\n",
       "      <td>0</td>\n",
       "      <td>2021-03-19</td>\n",
       "      <td>NaN</td>\n",
       "    </tr>\n",
       "    <tr>\n",
       "      <th>4</th>\n",
       "      <td>4</td>\n",
       "      <td>5</td>\n",
       "      <td>김성곤의 중국한시기행 : 장강·황하 편</td>\n",
       "      <td>김성곤 지음</td>\n",
       "      <td>김영사</td>\n",
       "      <td>2021</td>\n",
       "      <td>9788934990833</td>\n",
       "      <td>NaN</td>\n",
       "      <td>NaN</td>\n",
       "      <td>NaN</td>\n",
       "      <td>NaN</td>\n",
       "      <td>1</td>\n",
       "      <td>0</td>\n",
       "      <td>2021-03-19</td>\n",
       "      <td>NaN</td>\n",
       "    </tr>\n",
       "  </tbody>\n",
       "</table>\n",
       "</div>"
      ],
      "text/plain": [
       "   Unnamed: 0  번호                    도서명                저자    출판사  발행년도  \\\n",
       "0           0   1                인공지능과 흙            김동훈 지음    민음사  2021   \n",
       "1           1   2           가짜 행복 권하는 사회            김태형 지음   갈매나무  2021   \n",
       "2           2   3  나도 한 문장 잘 쓰면 바랄 게 없겠네            김선영 지음   블랙피쉬  2021   \n",
       "3           3   4                예루살렘 해변  이도 게펜 지음, 임재희 옮김  문학세계사  2021   \n",
       "4           4   5  김성곤의 중국한시기행 : 장강·황하 편            김성곤 지음    김영사  2021   \n",
       "\n",
       "            ISBN 세트 ISBN 부가기호    권 주제분류번호  도서권수  대출건수        등록일자  Unnamed: 13  \n",
       "0  9788937444319     NaN  NaN  NaN    NaN     1     0  2021-03-19          NaN  \n",
       "1  9791190123969     NaN  NaN  NaN    NaN     1     0  2021-03-19          NaN  \n",
       "2  9788968332982     NaN  NaN  NaN    NaN     1     0  2021-03-19          NaN  \n",
       "3  9788970759906     NaN  NaN  NaN    NaN     1     0  2021-03-19          NaN  \n",
       "4  9788934990833     NaN  NaN  NaN    NaN     1     0  2021-03-19          NaN  "
      ]
     },
     "execution_count": 13,
     "metadata": {},
     "output_type": "execute_result"
    }
   ],
   "source": [
    "ns_df = pd.read_csv('ns_202104.csv', low_memory=False)\n",
    "ns_df.head()"
   ]
  },
  {
   "cell_type": "markdown",
   "id": "7562e77b",
   "metadata": {},
   "source": [
    "인덱스 열 지정"
   ]
  },
  {
   "cell_type": "code",
   "execution_count": 14,
   "id": "fadf5ec2",
   "metadata": {},
   "outputs": [
    {
     "data": {
      "text/html": [
       "<div>\n",
       "<style scoped>\n",
       "    .dataframe tbody tr th:only-of-type {\n",
       "        vertical-align: middle;\n",
       "    }\n",
       "\n",
       "    .dataframe tbody tr th {\n",
       "        vertical-align: top;\n",
       "    }\n",
       "\n",
       "    .dataframe thead th {\n",
       "        text-align: right;\n",
       "    }\n",
       "</style>\n",
       "<table border=\"1\" class=\"dataframe\">\n",
       "  <thead>\n",
       "    <tr style=\"text-align: right;\">\n",
       "      <th></th>\n",
       "      <th>번호</th>\n",
       "      <th>도서명</th>\n",
       "      <th>저자</th>\n",
       "      <th>출판사</th>\n",
       "      <th>발행년도</th>\n",
       "      <th>ISBN</th>\n",
       "      <th>세트 ISBN</th>\n",
       "      <th>부가기호</th>\n",
       "      <th>권</th>\n",
       "      <th>주제분류번호</th>\n",
       "      <th>도서권수</th>\n",
       "      <th>대출건수</th>\n",
       "      <th>등록일자</th>\n",
       "      <th>Unnamed: 13</th>\n",
       "    </tr>\n",
       "  </thead>\n",
       "  <tbody>\n",
       "    <tr>\n",
       "      <th>0</th>\n",
       "      <td>1</td>\n",
       "      <td>인공지능과 흙</td>\n",
       "      <td>김동훈 지음</td>\n",
       "      <td>민음사</td>\n",
       "      <td>2021</td>\n",
       "      <td>9788937444319</td>\n",
       "      <td>NaN</td>\n",
       "      <td>NaN</td>\n",
       "      <td>NaN</td>\n",
       "      <td>NaN</td>\n",
       "      <td>1</td>\n",
       "      <td>0</td>\n",
       "      <td>2021-03-19</td>\n",
       "      <td>NaN</td>\n",
       "    </tr>\n",
       "    <tr>\n",
       "      <th>1</th>\n",
       "      <td>2</td>\n",
       "      <td>가짜 행복 권하는 사회</td>\n",
       "      <td>김태형 지음</td>\n",
       "      <td>갈매나무</td>\n",
       "      <td>2021</td>\n",
       "      <td>9791190123969</td>\n",
       "      <td>NaN</td>\n",
       "      <td>NaN</td>\n",
       "      <td>NaN</td>\n",
       "      <td>NaN</td>\n",
       "      <td>1</td>\n",
       "      <td>0</td>\n",
       "      <td>2021-03-19</td>\n",
       "      <td>NaN</td>\n",
       "    </tr>\n",
       "    <tr>\n",
       "      <th>2</th>\n",
       "      <td>3</td>\n",
       "      <td>나도 한 문장 잘 쓰면 바랄 게 없겠네</td>\n",
       "      <td>김선영 지음</td>\n",
       "      <td>블랙피쉬</td>\n",
       "      <td>2021</td>\n",
       "      <td>9788968332982</td>\n",
       "      <td>NaN</td>\n",
       "      <td>NaN</td>\n",
       "      <td>NaN</td>\n",
       "      <td>NaN</td>\n",
       "      <td>1</td>\n",
       "      <td>0</td>\n",
       "      <td>2021-03-19</td>\n",
       "      <td>NaN</td>\n",
       "    </tr>\n",
       "    <tr>\n",
       "      <th>3</th>\n",
       "      <td>4</td>\n",
       "      <td>예루살렘 해변</td>\n",
       "      <td>이도 게펜 지음, 임재희 옮김</td>\n",
       "      <td>문학세계사</td>\n",
       "      <td>2021</td>\n",
       "      <td>9788970759906</td>\n",
       "      <td>NaN</td>\n",
       "      <td>NaN</td>\n",
       "      <td>NaN</td>\n",
       "      <td>NaN</td>\n",
       "      <td>1</td>\n",
       "      <td>0</td>\n",
       "      <td>2021-03-19</td>\n",
       "      <td>NaN</td>\n",
       "    </tr>\n",
       "    <tr>\n",
       "      <th>4</th>\n",
       "      <td>5</td>\n",
       "      <td>김성곤의 중국한시기행 : 장강·황하 편</td>\n",
       "      <td>김성곤 지음</td>\n",
       "      <td>김영사</td>\n",
       "      <td>2021</td>\n",
       "      <td>9788934990833</td>\n",
       "      <td>NaN</td>\n",
       "      <td>NaN</td>\n",
       "      <td>NaN</td>\n",
       "      <td>NaN</td>\n",
       "      <td>1</td>\n",
       "      <td>0</td>\n",
       "      <td>2021-03-19</td>\n",
       "      <td>NaN</td>\n",
       "    </tr>\n",
       "  </tbody>\n",
       "</table>\n",
       "</div>"
      ],
      "text/plain": [
       "   번호                    도서명                저자    출판사  발행년도           ISBN  \\\n",
       "0   1                인공지능과 흙            김동훈 지음    민음사  2021  9788937444319   \n",
       "1   2           가짜 행복 권하는 사회            김태형 지음   갈매나무  2021  9791190123969   \n",
       "2   3  나도 한 문장 잘 쓰면 바랄 게 없겠네            김선영 지음   블랙피쉬  2021  9788968332982   \n",
       "3   4                예루살렘 해변  이도 게펜 지음, 임재희 옮김  문학세계사  2021  9788970759906   \n",
       "4   5  김성곤의 중국한시기행 : 장강·황하 편            김성곤 지음    김영사  2021  9788934990833   \n",
       "\n",
       "  세트 ISBN 부가기호    권 주제분류번호  도서권수  대출건수        등록일자  Unnamed: 13  \n",
       "0     NaN  NaN  NaN    NaN     1     0  2021-03-19          NaN  \n",
       "1     NaN  NaN  NaN    NaN     1     0  2021-03-19          NaN  \n",
       "2     NaN  NaN  NaN    NaN     1     0  2021-03-19          NaN  \n",
       "3     NaN  NaN  NaN    NaN     1     0  2021-03-19          NaN  \n",
       "4     NaN  NaN  NaN    NaN     1     0  2021-03-19          NaN  "
      ]
     },
     "execution_count": 14,
     "metadata": {},
     "output_type": "execute_result"
    }
   ],
   "source": [
    "ns_df = pd.read_csv('ns_202104.csv', index_col=0, low_memory=False)\n",
    "ns_df.head()"
   ]
  },
  {
   "cell_type": "markdown",
   "id": "a65bb52c",
   "metadata": {},
   "source": [
    "또는 인덱스를 제외하고 저장"
   ]
  },
  {
   "cell_type": "code",
   "execution_count": 15,
   "id": "e9d1a9ed",
   "metadata": {},
   "outputs": [],
   "source": [
    "df.to_csv('ns_202104.csv', index=False)"
   ]
  },
  {
   "cell_type": "markdown",
   "id": "28aedf0f",
   "metadata": {},
   "source": [
    "엑셀로도 저장"
   ]
  },
  {
   "cell_type": "code",
   "execution_count": null,
   "id": "cb0b290a",
   "metadata": {},
   "outputs": [],
   "source": [
    "# 코랩을 사용하는 경우 xlsxwriter 패키지를 설치해 주세요.\n",
    "!pip install xlsxwriter"
   ]
  },
  {
   "cell_type": "code",
   "execution_count": 16,
   "id": "e6e2f730",
   "metadata": {
    "scrolled": true
   },
   "outputs": [],
   "source": [
    "ns_df.to_excel('ns_202104.xlsx', index=False, engine='xlsxwriter')"
   ]
  },
  {
   "cell_type": "code",
   "execution_count": null,
   "id": "6a4d9e98",
   "metadata": {},
   "outputs": [],
   "source": []
  },
  {
   "cell_type": "code",
   "execution_count": null,
   "id": "0fa8d074",
   "metadata": {},
   "outputs": [],
   "source": []
  },
  {
   "cell_type": "code",
   "execution_count": 43,
   "id": "6a8937ab",
   "metadata": {},
   "outputs": [
    {
     "data": {
      "text/plain": [
       "Index(['1', '2', '3'], dtype='object')"
      ]
     },
     "execution_count": 43,
     "metadata": {},
     "output_type": "execute_result"
    }
   ],
   "source": [
    "pd.read_csv('test.csv', header=0, names=['1','2','3']).columns"
   ]
  },
  {
   "cell_type": "code",
   "execution_count": null,
   "id": "6851edf2",
   "metadata": {},
   "outputs": [],
   "source": []
  },
  {
   "cell_type": "code",
   "execution_count": 11,
   "id": "867428f3",
   "metadata": {},
   "outputs": [
    {
     "name": "stdout",
     "output_type": "stream",
     "text": [
      "Index(['번호', '도서명', '저자', '출판사', '발행년도', 'ISBN', '세트 ISBN', '부가기호', '권',\n",
      "       '주제분류번호', '도서권수', '대출건수', '등록일자', 'Unnamed: 13'],\n",
      "      dtype='object')\n"
     ]
    }
   ],
   "source": [
    "df.columns"
   ]
  },
  {
   "cell_type": "code",
   "execution_count": 12,
   "id": "ef3b5d93",
   "metadata": {},
   "outputs": [
    {
     "data": {
      "text/plain": [
       "array([ True,  True,  True,  True,  True,  True,  True,  True,  True,\n",
       "        True,  True,  True,  True, False])"
      ]
     },
     "execution_count": 12,
     "metadata": {},
     "output_type": "execute_result"
    }
   ],
   "source": [
    "df.columns != 'Unnamed: 13'"
   ]
  },
  {
   "cell_type": "code",
   "execution_count": 13,
   "id": "ce57d755",
   "metadata": {},
   "outputs": [],
   "source": [
    "ns_book = df.iloc[:, df.columns != 'Unnamed: 13']"
   ]
  },
  {
   "cell_type": "code",
   "execution_count": 14,
   "id": "a7276d49",
   "metadata": {},
   "outputs": [
    {
     "data": {
      "text/html": [
       "<div>\n",
       "<style scoped>\n",
       "    .dataframe tbody tr th:only-of-type {\n",
       "        vertical-align: middle;\n",
       "    }\n",
       "\n",
       "    .dataframe tbody tr th {\n",
       "        vertical-align: top;\n",
       "    }\n",
       "\n",
       "    .dataframe thead th {\n",
       "        text-align: right;\n",
       "    }\n",
       "</style>\n",
       "<table border=\"1\" class=\"dataframe\">\n",
       "  <thead>\n",
       "    <tr style=\"text-align: right;\">\n",
       "      <th></th>\n",
       "      <th>번호</th>\n",
       "      <th>도서명</th>\n",
       "      <th>저자</th>\n",
       "      <th>출판사</th>\n",
       "      <th>발행년도</th>\n",
       "      <th>ISBN</th>\n",
       "      <th>세트 ISBN</th>\n",
       "      <th>부가기호</th>\n",
       "      <th>권</th>\n",
       "      <th>주제분류번호</th>\n",
       "      <th>도서권수</th>\n",
       "      <th>대출건수</th>\n",
       "      <th>등록일자</th>\n",
       "    </tr>\n",
       "  </thead>\n",
       "  <tbody>\n",
       "    <tr>\n",
       "      <th>0</th>\n",
       "      <td>1</td>\n",
       "      <td>인공지능과 흙</td>\n",
       "      <td>김동훈 지음</td>\n",
       "      <td>민음사</td>\n",
       "      <td>2021</td>\n",
       "      <td>9788937444319</td>\n",
       "      <td>NaN</td>\n",
       "      <td>NaN</td>\n",
       "      <td>NaN</td>\n",
       "      <td>NaN</td>\n",
       "      <td>1</td>\n",
       "      <td>0</td>\n",
       "      <td>2021-03-19</td>\n",
       "    </tr>\n",
       "    <tr>\n",
       "      <th>1</th>\n",
       "      <td>2</td>\n",
       "      <td>가짜 행복 권하는 사회</td>\n",
       "      <td>김태형 지음</td>\n",
       "      <td>갈매나무</td>\n",
       "      <td>2021</td>\n",
       "      <td>9791190123969</td>\n",
       "      <td>NaN</td>\n",
       "      <td>NaN</td>\n",
       "      <td>NaN</td>\n",
       "      <td>NaN</td>\n",
       "      <td>1</td>\n",
       "      <td>0</td>\n",
       "      <td>2021-03-19</td>\n",
       "    </tr>\n",
       "    <tr>\n",
       "      <th>2</th>\n",
       "      <td>3</td>\n",
       "      <td>나도 한 문장 잘 쓰면 바랄 게 없겠네</td>\n",
       "      <td>김선영 지음</td>\n",
       "      <td>블랙피쉬</td>\n",
       "      <td>2021</td>\n",
       "      <td>9788968332982</td>\n",
       "      <td>NaN</td>\n",
       "      <td>NaN</td>\n",
       "      <td>NaN</td>\n",
       "      <td>NaN</td>\n",
       "      <td>1</td>\n",
       "      <td>0</td>\n",
       "      <td>2021-03-19</td>\n",
       "    </tr>\n",
       "    <tr>\n",
       "      <th>3</th>\n",
       "      <td>4</td>\n",
       "      <td>예루살렘 해변</td>\n",
       "      <td>이도 게펜 지음, 임재희 옮김</td>\n",
       "      <td>문학세계사</td>\n",
       "      <td>2021</td>\n",
       "      <td>9788970759906</td>\n",
       "      <td>NaN</td>\n",
       "      <td>NaN</td>\n",
       "      <td>NaN</td>\n",
       "      <td>NaN</td>\n",
       "      <td>1</td>\n",
       "      <td>0</td>\n",
       "      <td>2021-03-19</td>\n",
       "    </tr>\n",
       "    <tr>\n",
       "      <th>4</th>\n",
       "      <td>5</td>\n",
       "      <td>김성곤의 중국한시기행 : 장강·황하 편</td>\n",
       "      <td>김성곤 지음</td>\n",
       "      <td>김영사</td>\n",
       "      <td>2021</td>\n",
       "      <td>9788934990833</td>\n",
       "      <td>NaN</td>\n",
       "      <td>NaN</td>\n",
       "      <td>NaN</td>\n",
       "      <td>NaN</td>\n",
       "      <td>1</td>\n",
       "      <td>0</td>\n",
       "      <td>2021-03-19</td>\n",
       "    </tr>\n",
       "  </tbody>\n",
       "</table>\n",
       "</div>"
      ],
      "text/plain": [
       "   번호                    도서명                저자    출판사  발행년도           ISBN  \\\n",
       "0   1                인공지능과 흙            김동훈 지음    민음사  2021  9788937444319   \n",
       "1   2           가짜 행복 권하는 사회            김태형 지음   갈매나무  2021  9791190123969   \n",
       "2   3  나도 한 문장 잘 쓰면 바랄 게 없겠네            김선영 지음   블랙피쉬  2021  9788968332982   \n",
       "3   4                예루살렘 해변  이도 게펜 지음, 임재희 옮김  문학세계사  2021  9788970759906   \n",
       "4   5  김성곤의 중국한시기행 : 장강·황하 편            김성곤 지음    김영사  2021  9788934990833   \n",
       "\n",
       "  세트 ISBN 부가기호    권 주제분류번호  도서권수  대출건수        등록일자  \n",
       "0     NaN  NaN  NaN    NaN     1     0  2021-03-19  \n",
       "1     NaN  NaN  NaN    NaN     1     0  2021-03-19  \n",
       "2     NaN  NaN  NaN    NaN     1     0  2021-03-19  \n",
       "3     NaN  NaN  NaN    NaN     1     0  2021-03-19  \n",
       "4     NaN  NaN  NaN    NaN     1     0  2021-03-19  "
      ]
     },
     "execution_count": 14,
     "metadata": {},
     "output_type": "execute_result"
    }
   ],
   "source": [
    "ns_book.head()"
   ]
  },
  {
   "cell_type": "code",
   "execution_count": 15,
   "id": "5304f915",
   "metadata": {},
   "outputs": [],
   "source": [
    "ns_book = df.drop('Unnamed: 13', axis=1)"
   ]
  },
  {
   "cell_type": "code",
   "execution_count": 16,
   "id": "08e951bd",
   "metadata": {},
   "outputs": [
    {
     "data": {
      "text/html": [
       "<div>\n",
       "<style scoped>\n",
       "    .dataframe tbody tr th:only-of-type {\n",
       "        vertical-align: middle;\n",
       "    }\n",
       "\n",
       "    .dataframe tbody tr th {\n",
       "        vertical-align: top;\n",
       "    }\n",
       "\n",
       "    .dataframe thead th {\n",
       "        text-align: right;\n",
       "    }\n",
       "</style>\n",
       "<table border=\"1\" class=\"dataframe\">\n",
       "  <thead>\n",
       "    <tr style=\"text-align: right;\">\n",
       "      <th></th>\n",
       "      <th>번호</th>\n",
       "      <th>도서명</th>\n",
       "      <th>저자</th>\n",
       "      <th>출판사</th>\n",
       "      <th>발행년도</th>\n",
       "      <th>ISBN</th>\n",
       "      <th>세트 ISBN</th>\n",
       "      <th>부가기호</th>\n",
       "      <th>권</th>\n",
       "      <th>주제분류번호</th>\n",
       "      <th>도서권수</th>\n",
       "      <th>대출건수</th>\n",
       "      <th>등록일자</th>\n",
       "    </tr>\n",
       "  </thead>\n",
       "  <tbody>\n",
       "    <tr>\n",
       "      <th>0</th>\n",
       "      <td>1</td>\n",
       "      <td>인공지능과 흙</td>\n",
       "      <td>김동훈 지음</td>\n",
       "      <td>민음사</td>\n",
       "      <td>2021</td>\n",
       "      <td>9788937444319</td>\n",
       "      <td>NaN</td>\n",
       "      <td>NaN</td>\n",
       "      <td>NaN</td>\n",
       "      <td>NaN</td>\n",
       "      <td>1</td>\n",
       "      <td>0</td>\n",
       "      <td>2021-03-19</td>\n",
       "    </tr>\n",
       "    <tr>\n",
       "      <th>1</th>\n",
       "      <td>2</td>\n",
       "      <td>가짜 행복 권하는 사회</td>\n",
       "      <td>김태형 지음</td>\n",
       "      <td>갈매나무</td>\n",
       "      <td>2021</td>\n",
       "      <td>9791190123969</td>\n",
       "      <td>NaN</td>\n",
       "      <td>NaN</td>\n",
       "      <td>NaN</td>\n",
       "      <td>NaN</td>\n",
       "      <td>1</td>\n",
       "      <td>0</td>\n",
       "      <td>2021-03-19</td>\n",
       "    </tr>\n",
       "    <tr>\n",
       "      <th>2</th>\n",
       "      <td>3</td>\n",
       "      <td>나도 한 문장 잘 쓰면 바랄 게 없겠네</td>\n",
       "      <td>김선영 지음</td>\n",
       "      <td>블랙피쉬</td>\n",
       "      <td>2021</td>\n",
       "      <td>9788968332982</td>\n",
       "      <td>NaN</td>\n",
       "      <td>NaN</td>\n",
       "      <td>NaN</td>\n",
       "      <td>NaN</td>\n",
       "      <td>1</td>\n",
       "      <td>0</td>\n",
       "      <td>2021-03-19</td>\n",
       "    </tr>\n",
       "    <tr>\n",
       "      <th>3</th>\n",
       "      <td>4</td>\n",
       "      <td>예루살렘 해변</td>\n",
       "      <td>이도 게펜 지음, 임재희 옮김</td>\n",
       "      <td>문학세계사</td>\n",
       "      <td>2021</td>\n",
       "      <td>9788970759906</td>\n",
       "      <td>NaN</td>\n",
       "      <td>NaN</td>\n",
       "      <td>NaN</td>\n",
       "      <td>NaN</td>\n",
       "      <td>1</td>\n",
       "      <td>0</td>\n",
       "      <td>2021-03-19</td>\n",
       "    </tr>\n",
       "    <tr>\n",
       "      <th>4</th>\n",
       "      <td>5</td>\n",
       "      <td>김성곤의 중국한시기행 : 장강·황하 편</td>\n",
       "      <td>김성곤 지음</td>\n",
       "      <td>김영사</td>\n",
       "      <td>2021</td>\n",
       "      <td>9788934990833</td>\n",
       "      <td>NaN</td>\n",
       "      <td>NaN</td>\n",
       "      <td>NaN</td>\n",
       "      <td>NaN</td>\n",
       "      <td>1</td>\n",
       "      <td>0</td>\n",
       "      <td>2021-03-19</td>\n",
       "    </tr>\n",
       "  </tbody>\n",
       "</table>\n",
       "</div>"
      ],
      "text/plain": [
       "   번호                    도서명                저자    출판사  발행년도           ISBN  \\\n",
       "0   1                인공지능과 흙            김동훈 지음    민음사  2021  9788937444319   \n",
       "1   2           가짜 행복 권하는 사회            김태형 지음   갈매나무  2021  9791190123969   \n",
       "2   3  나도 한 문장 잘 쓰면 바랄 게 없겠네            김선영 지음   블랙피쉬  2021  9788968332982   \n",
       "3   4                예루살렘 해변  이도 게펜 지음, 임재희 옮김  문학세계사  2021  9788970759906   \n",
       "4   5  김성곤의 중국한시기행 : 장강·황하 편            김성곤 지음    김영사  2021  9788934990833   \n",
       "\n",
       "  세트 ISBN 부가기호    권 주제분류번호  도서권수  대출건수        등록일자  \n",
       "0     NaN  NaN  NaN    NaN     1     0  2021-03-19  \n",
       "1     NaN  NaN  NaN    NaN     1     0  2021-03-19  \n",
       "2     NaN  NaN  NaN    NaN     1     0  2021-03-19  \n",
       "3     NaN  NaN  NaN    NaN     1     0  2021-03-19  \n",
       "4     NaN  NaN  NaN    NaN     1     0  2021-03-19  "
      ]
     },
     "execution_count": 16,
     "metadata": {},
     "output_type": "execute_result"
    }
   ],
   "source": [
    "ns_book.head()"
   ]
  },
  {
   "cell_type": "code",
   "execution_count": 31,
   "id": "708b21de",
   "metadata": {},
   "outputs": [
    {
     "name": "stdout",
     "output_type": "stream",
     "text": [
      "<class 'pandas.core.frame.DataFrame'>\n",
      "RangeIndex: 401682 entries, 0 to 401681\n",
      "Data columns (total 13 columns):\n",
      " #   Column   Non-Null Count   Dtype \n",
      "---  ------   --------------   ----- \n",
      " 0   번호       401682 non-null  int64 \n",
      " 1   도서명      401279 non-null  object\n",
      " 2   저자       401481 non-null  object\n",
      " 3   출판사      396887 non-null  object\n",
      " 4   발행년도     401665 non-null  object\n",
      " 5   ISBN     401682 non-null  object\n",
      " 6   세트 ISBN  61871 non-null   object\n",
      " 7   부가기호     325034 non-null  object\n",
      " 8   권        68267 non-null   object\n",
      " 9   주제분류번호   381360 non-null  object\n",
      " 10  도서권수     401682 non-null  int64 \n",
      " 11  대출건수     401682 non-null  int64 \n",
      " 12  등록일자     401682 non-null  object\n",
      "dtypes: int64(3), object(10)\n",
      "memory usage: 39.8+ MB\n"
     ]
    }
   ],
   "source": [
    "ns_book.info()"
   ]
  },
  {
   "cell_type": "code",
   "execution_count": 40,
   "id": "1983c1f6",
   "metadata": {},
   "outputs": [
    {
     "data": {
      "text/html": [
       "<div>\n",
       "<style scoped>\n",
       "    .dataframe tbody tr th:only-of-type {\n",
       "        vertical-align: middle;\n",
       "    }\n",
       "\n",
       "    .dataframe tbody tr th {\n",
       "        vertical-align: top;\n",
       "    }\n",
       "\n",
       "    .dataframe thead th {\n",
       "        text-align: right;\n",
       "    }\n",
       "</style>\n",
       "<table border=\"1\" class=\"dataframe\">\n",
       "  <thead>\n",
       "    <tr style=\"text-align: right;\">\n",
       "      <th></th>\n",
       "      <th>번호</th>\n",
       "      <th>도서명</th>\n",
       "      <th>저자</th>\n",
       "      <th>출판사</th>\n",
       "      <th>발행년도</th>\n",
       "      <th>ISBN</th>\n",
       "      <th>세트 ISBN</th>\n",
       "      <th>부가기호</th>\n",
       "      <th>권</th>\n",
       "      <th>주제분류번호</th>\n",
       "      <th>도서권수</th>\n",
       "      <th>대출건수</th>\n",
       "      <th>등록일자</th>\n",
       "    </tr>\n",
       "  </thead>\n",
       "  <tbody>\n",
       "    <tr>\n",
       "      <th>109</th>\n",
       "      <td>110</td>\n",
       "      <td>파친코</td>\n",
       "      <td>이민진 지음 ;이미정 옮김</td>\n",
       "      <td>문학사상</td>\n",
       "      <td>2018</td>\n",
       "      <td>9788970129815</td>\n",
       "      <td>9788970129808</td>\n",
       "      <td>0</td>\n",
       "      <td>1</td>\n",
       "      <td>843.6</td>\n",
       "      <td>1</td>\n",
       "      <td>0</td>\n",
       "      <td>2021-03-12</td>\n",
       "    </tr>\n",
       "    <tr>\n",
       "      <th>110</th>\n",
       "      <td>111</td>\n",
       "      <td>파친코</td>\n",
       "      <td>이민진 지음 ;이미정 옮김</td>\n",
       "      <td>문학사상</td>\n",
       "      <td>2018</td>\n",
       "      <td>9788970129822</td>\n",
       "      <td>9788970129808</td>\n",
       "      <td>0</td>\n",
       "      <td>2</td>\n",
       "      <td>843.6</td>\n",
       "      <td>1</td>\n",
       "      <td>0</td>\n",
       "      <td>2021-03-12</td>\n",
       "    </tr>\n",
       "    <tr>\n",
       "      <th>126</th>\n",
       "      <td>127</td>\n",
       "      <td>파친코</td>\n",
       "      <td>이민진 지음 ;이미정 옮김</td>\n",
       "      <td>문학사상</td>\n",
       "      <td>2018</td>\n",
       "      <td>9788970129815</td>\n",
       "      <td>9788970129808</td>\n",
       "      <td>0</td>\n",
       "      <td>1</td>\n",
       "      <td>843.6</td>\n",
       "      <td>1</td>\n",
       "      <td>0</td>\n",
       "      <td>2021-03-12</td>\n",
       "    </tr>\n",
       "    <tr>\n",
       "      <th>127</th>\n",
       "      <td>128</td>\n",
       "      <td>파친코</td>\n",
       "      <td>이민진 지음 ;이미정 옮김</td>\n",
       "      <td>문학사상</td>\n",
       "      <td>2018</td>\n",
       "      <td>9788970129815</td>\n",
       "      <td>9788970129808</td>\n",
       "      <td>0</td>\n",
       "      <td>1</td>\n",
       "      <td>843.6</td>\n",
       "      <td>1</td>\n",
       "      <td>0</td>\n",
       "      <td>2021-03-12</td>\n",
       "    </tr>\n",
       "    <tr>\n",
       "      <th>128</th>\n",
       "      <td>129</td>\n",
       "      <td>파친코</td>\n",
       "      <td>이민진 지음 ;이미정 옮김</td>\n",
       "      <td>문학사상</td>\n",
       "      <td>2018</td>\n",
       "      <td>9788970129822</td>\n",
       "      <td>9788970129808</td>\n",
       "      <td>0</td>\n",
       "      <td>2</td>\n",
       "      <td>843.6</td>\n",
       "      <td>1</td>\n",
       "      <td>0</td>\n",
       "      <td>2021-03-12</td>\n",
       "    </tr>\n",
       "  </tbody>\n",
       "</table>\n",
       "</div>"
      ],
      "text/plain": [
       "      번호  도서명              저자   출판사  발행년도           ISBN        세트 ISBN 부가기호  \\\n",
       "109  110  파친코  이민진 지음 ;이미정 옮김  문학사상  2018  9788970129815  9788970129808    0   \n",
       "110  111  파친코  이민진 지음 ;이미정 옮김  문학사상  2018  9788970129822  9788970129808    0   \n",
       "126  127  파친코  이민진 지음 ;이미정 옮김  문학사상  2018  9788970129815  9788970129808    0   \n",
       "127  128  파친코  이민진 지음 ;이미정 옮김  문학사상  2018  9788970129815  9788970129808    0   \n",
       "128  129  파친코  이민진 지음 ;이미정 옮김  문학사상  2018  9788970129822  9788970129808    0   \n",
       "\n",
       "     권 주제분류번호  도서권수  대출건수        등록일자  \n",
       "109  1  843.6     1     0  2021-03-12  \n",
       "110  2  843.6     1     0  2021-03-12  \n",
       "126  1  843.6     1     0  2021-03-12  \n",
       "127  1  843.6     1     0  2021-03-12  \n",
       "128  2  843.6     1     0  2021-03-12  "
      ]
     },
     "execution_count": 40,
     "metadata": {},
     "output_type": "execute_result"
    }
   ],
   "source": [
    "ns_book[ns_book['세트 ISBN'].notnull()].head()"
   ]
  },
  {
   "cell_type": "code",
   "execution_count": 44,
   "id": "bdd02f97",
   "metadata": {},
   "outputs": [
    {
     "data": {
      "text/plain": [
       "array([nan, '1', '0', '9', '7', '4', '5', '6', '3', '2', '(', 'C', '8',\n",
       "       'c', 'f', '전', '\\\\', 'q'], dtype=object)"
      ]
     },
     "execution_count": 44,
     "metadata": {},
     "output_type": "execute_result"
    }
   ],
   "source": [
    "ns_book['부가기호'].unique()"
   ]
  },
  {
   "cell_type": "code",
   "execution_count": 47,
   "id": "c695e3fc",
   "metadata": {},
   "outputs": [
    {
     "data": {
      "text/plain": [
       "1     348559\n",
       "2      40757\n",
       "0       6041\n",
       "3       4457\n",
       "4       1208\n",
       "5        309\n",
       "6        153\n",
       "7         67\n",
       "8         38\n",
       "10        25\n",
       "9         16\n",
       "11        15\n",
       "12         9\n",
       "14         4\n",
       "20         3\n",
       "30         3\n",
       "13         3\n",
       "16         3\n",
       "15         3\n",
       "18         2\n",
       "17         1\n",
       "22         1\n",
       "26         1\n",
       "27         1\n",
       "29         1\n",
       "34         1\n",
       "40         1\n",
       "Name: 도서권수, dtype: int64"
      ]
     },
     "execution_count": 47,
     "metadata": {},
     "output_type": "execute_result"
    }
   ],
   "source": [
    "ns_book['도서권수'].value_counts()"
   ]
  },
  {
   "cell_type": "code",
   "execution_count": 42,
   "id": "04460298",
   "metadata": {
    "scrolled": true
   },
   "outputs": [
    {
     "data": {
      "text/html": [
       "<div>\n",
       "<style scoped>\n",
       "    .dataframe tbody tr th:only-of-type {\n",
       "        vertical-align: middle;\n",
       "    }\n",
       "\n",
       "    .dataframe tbody tr th {\n",
       "        vertical-align: top;\n",
       "    }\n",
       "\n",
       "    .dataframe thead th {\n",
       "        text-align: right;\n",
       "    }\n",
       "</style>\n",
       "<table border=\"1\" class=\"dataframe\">\n",
       "  <thead>\n",
       "    <tr style=\"text-align: right;\">\n",
       "      <th></th>\n",
       "      <th>번호</th>\n",
       "      <th>도서명</th>\n",
       "      <th>저자</th>\n",
       "      <th>출판사</th>\n",
       "      <th>발행년도</th>\n",
       "      <th>ISBN</th>\n",
       "      <th>세트 ISBN</th>\n",
       "      <th>부가기호</th>\n",
       "      <th>권</th>\n",
       "      <th>주제분류번호</th>\n",
       "      <th>도서권수</th>\n",
       "      <th>대출건수</th>\n",
       "      <th>등록일자</th>\n",
       "    </tr>\n",
       "  </thead>\n",
       "  <tbody>\n",
       "    <tr>\n",
       "      <th>244467</th>\n",
       "      <td>244468</td>\n",
       "      <td>건축이 건들건들</td>\n",
       "      <td>마이클 콕스 지음;오숙은 옮김</td>\n",
       "      <td>김영사</td>\n",
       "      <td>1999</td>\n",
       "      <td>9788934904267</td>\n",
       "      <td>9788934904267</td>\n",
       "      <td>(</td>\n",
       "      <td>NaN</td>\n",
       "      <td>610</td>\n",
       "      <td>1</td>\n",
       "      <td>2</td>\n",
       "      <td>2008-12-22</td>\n",
       "    </tr>\n",
       "    <tr>\n",
       "      <th>241816</th>\n",
       "      <td>241817</td>\n",
       "      <td>사회철학대계</td>\n",
       "      <td>백종현...[등]지음</td>\n",
       "      <td>민음사</td>\n",
       "      <td>1998</td>\n",
       "      <td>9788937421433</td>\n",
       "      <td>9788937421433</td>\n",
       "      <td>(</td>\n",
       "      <td>4</td>\n",
       "      <td>301</td>\n",
       "      <td>1</td>\n",
       "      <td>0</td>\n",
       "      <td>2008-12-30</td>\n",
       "    </tr>\n",
       "    <tr>\n",
       "      <th>244723</th>\n",
       "      <td>244724</td>\n",
       "      <td>믿지 못해 미스터리</td>\n",
       "      <td>앤서니 윌슨 지음;김은하 옮김</td>\n",
       "      <td>김영사</td>\n",
       "      <td>2000</td>\n",
       "      <td>9788934904984</td>\n",
       "      <td>9788934904977</td>\n",
       "      <td>(</td>\n",
       "      <td>NaN</td>\n",
       "      <td>001.9</td>\n",
       "      <td>0</td>\n",
       "      <td>0</td>\n",
       "      <td>2008-12-22</td>\n",
       "    </tr>\n",
       "    <tr>\n",
       "      <th>244724</th>\n",
       "      <td>244725</td>\n",
       "      <td>위대한 마법사 오즈</td>\n",
       "      <td>L. 프랭크 바움 지음;최인자 옮김</td>\n",
       "      <td>문학세계사</td>\n",
       "      <td>2000</td>\n",
       "      <td>9788970751856</td>\n",
       "      <td>9788970751849</td>\n",
       "      <td>(</td>\n",
       "      <td>1</td>\n",
       "      <td>843</td>\n",
       "      <td>0</td>\n",
       "      <td>0</td>\n",
       "      <td>2008-12-22</td>\n",
       "    </tr>\n",
       "    <tr>\n",
       "      <th>244725</th>\n",
       "      <td>244726</td>\n",
       "      <td>종교가 중얼중얼</td>\n",
       "      <td>애니타 개너리 지음;윤길순 옮김</td>\n",
       "      <td>김영사</td>\n",
       "      <td>2000</td>\n",
       "      <td>9788934905158</td>\n",
       "      <td>9788934904977</td>\n",
       "      <td>(</td>\n",
       "      <td>NaN</td>\n",
       "      <td>200</td>\n",
       "      <td>0</td>\n",
       "      <td>0</td>\n",
       "      <td>2008-12-22</td>\n",
       "    </tr>\n",
       "  </tbody>\n",
       "</table>\n",
       "</div>"
      ],
      "text/plain": [
       "            번호         도서명                   저자    출판사  발행년도           ISBN  \\\n",
       "244467  244468    건축이 건들건들     마이클 콕스 지음;오숙은 옮김    김영사  1999  9788934904267   \n",
       "241816  241817      사회철학대계          백종현...[등]지음    민음사  1998  9788937421433   \n",
       "244723  244724  믿지 못해 미스터리     앤서니 윌슨 지음;김은하 옮김    김영사  2000  9788934904984   \n",
       "244724  244725  위대한 마법사 오즈  L. 프랭크 바움 지음;최인자 옮김  문학세계사  2000  9788970751856   \n",
       "244725  244726    종교가 중얼중얼    애니타 개너리 지음;윤길순 옮김    김영사  2000  9788934905158   \n",
       "\n",
       "              세트 ISBN 부가기호    권 주제분류번호  도서권수  대출건수        등록일자  \n",
       "244467  9788934904267    (  NaN    610     1     2  2008-12-22  \n",
       "241816  9788937421433    (    4    301     1     0  2008-12-30  \n",
       "244723  9788934904977    (  NaN  001.9     0     0  2008-12-22  \n",
       "244724  9788970751849    (    1    843     0     0  2008-12-22  \n",
       "244725  9788934904977    (  NaN    200     0     0  2008-12-22  "
      ]
     },
     "execution_count": 42,
     "metadata": {},
     "output_type": "execute_result"
    }
   ],
   "source": [
    "ns_book[ns_book['부가기호'].notnull()].sort_values(by=['부가기호']).head()"
   ]
  },
  {
   "cell_type": "code",
   "execution_count": 51,
   "id": "5b9eed73",
   "metadata": {},
   "outputs": [
    {
     "data": {
      "text/plain": [
       "0    6041\n",
       "Name: 대출건수, dtype: int64"
      ]
     },
     "execution_count": 51,
     "metadata": {},
     "output_type": "execute_result"
    }
   ],
   "source": [
    "ns_book[ns_book['도서권수']==0]['대출건수'].value_counts()"
   ]
  },
  {
   "cell_type": "code",
   "execution_count": 52,
   "id": "7aaf17de",
   "metadata": {},
   "outputs": [],
   "source": [
    "ns_book_clean = ns_book[ns_book['도서권수']!=0]"
   ]
  },
  {
   "cell_type": "code",
   "execution_count": 54,
   "id": "9c891f4b",
   "metadata": {},
   "outputs": [
    {
     "name": "stdout",
     "output_type": "stream",
     "text": [
      "<class 'pandas.core.frame.DataFrame'>\n",
      "Int64Index: 395641 entries, 0 to 401680\n",
      "Data columns (total 13 columns):\n",
      " #   Column   Non-Null Count   Dtype \n",
      "---  ------   --------------   ----- \n",
      " 0   번호       395641 non-null  int64 \n",
      " 1   도서명      395238 non-null  object\n",
      " 2   저자       395442 non-null  object\n",
      " 3   출판사      390917 non-null  object\n",
      " 4   발행년도     395626 non-null  object\n",
      " 5   ISBN     395641 non-null  object\n",
      " 6   세트 ISBN  58426 non-null   object\n",
      " 7   부가기호     322100 non-null  object\n",
      " 8   권        65764 non-null   object\n",
      " 9   주제분류번호   378135 non-null  object\n",
      " 10  도서권수     395641 non-null  int64 \n",
      " 11  대출건수     395641 non-null  int64 \n",
      " 12  등록일자     395641 non-null  object\n",
      "dtypes: int64(3), object(10)\n",
      "memory usage: 42.3+ MB\n"
     ]
    }
   ],
   "source": [
    "ns_book_clean.info()"
   ]
  },
  {
   "cell_type": "code",
   "execution_count": 67,
   "id": "f5e282aa",
   "metadata": {},
   "outputs": [
    {
     "data": {
      "text/plain": [
       "1     348559\n",
       "2      40757\n",
       "3       4457\n",
       "4       1208\n",
       "5        309\n",
       "6        153\n",
       "7         67\n",
       "8         38\n",
       "10        25\n",
       "9         16\n",
       "11        15\n",
       "12         9\n",
       "14         4\n",
       "13         3\n",
       "15         3\n",
       "16         3\n",
       "20         3\n",
       "30         3\n",
       "18         2\n",
       "17         1\n",
       "22         1\n",
       "26         1\n",
       "27         1\n",
       "29         1\n",
       "34         1\n",
       "40         1\n",
       "Name: 도서권수, dtype: int64"
      ]
     },
     "execution_count": 67,
     "metadata": {},
     "output_type": "execute_result"
    }
   ],
   "source": [
    "ns_book_clean['도서권수'].value_counts()"
   ]
  },
  {
   "cell_type": "code",
   "execution_count": null,
   "id": "b68e05c6",
   "metadata": {},
   "outputs": [],
   "source": []
  }
 ],
 "metadata": {
  "kernelspec": {
   "display_name": "Python 3",
   "language": "python",
   "name": "python3"
  },
  "language_info": {
   "codemirror_mode": {
    "name": "ipython",
    "version": 3
   },
   "file_extension": ".py",
   "mimetype": "text/x-python",
   "name": "python",
   "nbconvert_exporter": "python",
   "pygments_lexer": "ipython3",
   "version": "3.7.3"
  }
 },
 "nbformat": 4,
 "nbformat_minor": 5
}
