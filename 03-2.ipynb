{
 "cells": [
  {
   "cell_type": "markdown",
   "id": "ffd9a67e",
   "metadata": {},
   "source": [
    "# 잘못된 데이터 수정하기"
   ]
  },
  {
   "cell_type": "markdown",
   "id": "75ff0197",
   "metadata": {},
   "source": [
    "<table class=\"tfo-notebook-buttons\" align=\"left\">\n",
    "  <td>\n",
    "    <a target=\"_blank\" href=\"https://nbviewer.jupyter.org/github/rickiepark/hg-da/blob/main/03-2.ipynb\"><img src=\"https://jupyter.org/assets/main-logo.svg\" width=\"28\" />주피터 노트북 뷰어로 보기</a>\n",
    "  </td>\n",
    "  <td>\n",
    "    <a target=\"_blank\" href=\"https://colab.research.google.com/github/rickiepark/main/03-2.ipynb\"><img src=\"https://www.tensorflow.org/images/colab_logo_32px.png\" />구글 코랩(Colab)에서 실행하기</a>\n",
    "  </td>\n",
    "</table>"
   ]
  },
  {
   "cell_type": "markdown",
   "id": "78f37953",
   "metadata": {},
   "source": [
    "## 시작하기 전에"
   ]
  },
  {
   "cell_type": "code",
   "execution_count": 1,
   "id": "b3722e5f",
   "metadata": {
    "execution": {
     "iopub.execute_input": "2021-09-07T02:39:24.213331Z",
     "iopub.status.busy": "2021-09-07T02:39:24.212962Z",
     "iopub.status.idle": "2021-09-07T02:39:30.983235Z",
     "shell.execute_reply": "2021-09-07T02:39:30.984073Z"
    }
   },
   "outputs": [
    {
     "name": "stderr",
     "output_type": "stream",
     "text": [
      "Downloading...\n",
      "From: https://bit.ly/ns_book4\n",
      "To: /home/work/github/hg-da/ns_book4.csv\n",
      "55.5MB [00:04, 12.3MB/s]\n"
     ]
    },
    {
     "data": {
      "text/plain": [
       "'ns_book4.csv'"
      ]
     },
     "execution_count": 1,
     "metadata": {},
     "output_type": "execute_result"
    }
   ],
   "source": [
    "import gdown\n",
    "\n",
    "gdown.download('https://bit.ly/ns_book4', 'ns_book4.csv', quiet=False)"
   ]
  },
  {
   "cell_type": "markdown",
   "id": "3cfbc518",
   "metadata": {},
   "source": [
    "## 누락된 값 확인하기"
   ]
  },
  {
   "cell_type": "code",
   "execution_count": 2,
   "id": "e0551419",
   "metadata": {
    "execution": {
     "iopub.execute_input": "2021-09-07T02:39:30.989521Z",
     "iopub.status.busy": "2021-09-07T02:39:30.988878Z",
     "iopub.status.idle": "2021-09-07T02:39:32.289862Z",
     "shell.execute_reply": "2021-09-07T02:39:32.289150Z"
    },
    "scrolled": false
   },
   "outputs": [
    {
     "data": {
      "text/html": [
       "<div>\n",
       "<style scoped>\n",
       "    .dataframe tbody tr th:only-of-type {\n",
       "        vertical-align: middle;\n",
       "    }\n",
       "\n",
       "    .dataframe tbody tr th {\n",
       "        vertical-align: top;\n",
       "    }\n",
       "\n",
       "    .dataframe thead th {\n",
       "        text-align: right;\n",
       "    }\n",
       "</style>\n",
       "<table border=\"1\" class=\"dataframe\">\n",
       "  <thead>\n",
       "    <tr style=\"text-align: right;\">\n",
       "      <th></th>\n",
       "      <th>번호</th>\n",
       "      <th>도서명</th>\n",
       "      <th>저자</th>\n",
       "      <th>출판사</th>\n",
       "      <th>발행년도</th>\n",
       "      <th>ISBN</th>\n",
       "      <th>세트 ISBN</th>\n",
       "      <th>부가기호</th>\n",
       "      <th>권</th>\n",
       "      <th>주제분류번호</th>\n",
       "      <th>도서권수</th>\n",
       "      <th>대출건수</th>\n",
       "      <th>등록일자</th>\n",
       "    </tr>\n",
       "  </thead>\n",
       "  <tbody>\n",
       "    <tr>\n",
       "      <th>0</th>\n",
       "      <td>1</td>\n",
       "      <td>인공지능과 흙</td>\n",
       "      <td>김동훈 지음</td>\n",
       "      <td>민음사</td>\n",
       "      <td>2021</td>\n",
       "      <td>9788937444319</td>\n",
       "      <td>NaN</td>\n",
       "      <td>NaN</td>\n",
       "      <td>NaN</td>\n",
       "      <td>NaN</td>\n",
       "      <td>1</td>\n",
       "      <td>0.0</td>\n",
       "      <td>2021-03-19</td>\n",
       "    </tr>\n",
       "    <tr>\n",
       "      <th>1</th>\n",
       "      <td>2</td>\n",
       "      <td>가짜 행복 권하는 사회</td>\n",
       "      <td>김태형 지음</td>\n",
       "      <td>갈매나무</td>\n",
       "      <td>2021</td>\n",
       "      <td>9791190123969</td>\n",
       "      <td>NaN</td>\n",
       "      <td>NaN</td>\n",
       "      <td>NaN</td>\n",
       "      <td>NaN</td>\n",
       "      <td>1</td>\n",
       "      <td>0.0</td>\n",
       "      <td>2021-03-19</td>\n",
       "    </tr>\n",
       "    <tr>\n",
       "      <th>2</th>\n",
       "      <td>3</td>\n",
       "      <td>나도 한 문장 잘 쓰면 바랄 게 없겠네</td>\n",
       "      <td>김선영 지음</td>\n",
       "      <td>블랙피쉬</td>\n",
       "      <td>2021</td>\n",
       "      <td>9788968332982</td>\n",
       "      <td>NaN</td>\n",
       "      <td>NaN</td>\n",
       "      <td>NaN</td>\n",
       "      <td>NaN</td>\n",
       "      <td>1</td>\n",
       "      <td>0.0</td>\n",
       "      <td>2021-03-19</td>\n",
       "    </tr>\n",
       "    <tr>\n",
       "      <th>3</th>\n",
       "      <td>4</td>\n",
       "      <td>예루살렘 해변</td>\n",
       "      <td>이도 게펜 지음, 임재희 옮김</td>\n",
       "      <td>문학세계사</td>\n",
       "      <td>2021</td>\n",
       "      <td>9788970759906</td>\n",
       "      <td>NaN</td>\n",
       "      <td>NaN</td>\n",
       "      <td>NaN</td>\n",
       "      <td>NaN</td>\n",
       "      <td>1</td>\n",
       "      <td>0.0</td>\n",
       "      <td>2021-03-19</td>\n",
       "    </tr>\n",
       "    <tr>\n",
       "      <th>4</th>\n",
       "      <td>5</td>\n",
       "      <td>김성곤의 중국한시기행 : 장강·황하 편</td>\n",
       "      <td>김성곤 지음</td>\n",
       "      <td>김영사</td>\n",
       "      <td>2021</td>\n",
       "      <td>9788934990833</td>\n",
       "      <td>NaN</td>\n",
       "      <td>NaN</td>\n",
       "      <td>NaN</td>\n",
       "      <td>NaN</td>\n",
       "      <td>1</td>\n",
       "      <td>0.0</td>\n",
       "      <td>2021-03-19</td>\n",
       "    </tr>\n",
       "  </tbody>\n",
       "</table>\n",
       "</div>"
      ],
      "text/plain": [
       "   번호                    도서명                저자    출판사  발행년도           ISBN  \\\n",
       "0   1                인공지능과 흙            김동훈 지음    민음사  2021  9788937444319   \n",
       "1   2           가짜 행복 권하는 사회            김태형 지음   갈매나무  2021  9791190123969   \n",
       "2   3  나도 한 문장 잘 쓰면 바랄 게 없겠네            김선영 지음   블랙피쉬  2021  9788968332982   \n",
       "3   4                예루살렘 해변  이도 게펜 지음, 임재희 옮김  문학세계사  2021  9788970759906   \n",
       "4   5  김성곤의 중국한시기행 : 장강·황하 편            김성곤 지음    김영사  2021  9788934990833   \n",
       "\n",
       "  세트 ISBN 부가기호    권 주제분류번호  도서권수  대출건수        등록일자  \n",
       "0     NaN  NaN  NaN    NaN     1   0.0  2021-03-19  \n",
       "1     NaN  NaN  NaN    NaN     1   0.0  2021-03-19  \n",
       "2     NaN  NaN  NaN    NaN     1   0.0  2021-03-19  \n",
       "3     NaN  NaN  NaN    NaN     1   0.0  2021-03-19  \n",
       "4     NaN  NaN  NaN    NaN     1   0.0  2021-03-19  "
      ]
     },
     "execution_count": 1,
     "metadata": {},
     "output_type": "execute_result"
    }
   ],
   "source": [
    "import pandas as pd\n",
    "\n",
    "ns_book4 = pd.read_csv('ns_book4.csv', low_memory=False)\n",
    "ns_book4.head()"
   ]
  },
  {
   "cell_type": "code",
   "execution_count": 3,
   "id": "add23e7e",
   "metadata": {
    "execution": {
     "iopub.execute_input": "2021-09-07T02:39:32.294761Z",
     "iopub.status.busy": "2021-09-07T02:39:32.293906Z",
     "iopub.status.idle": "2021-09-07T02:39:32.427107Z",
     "shell.execute_reply": "2021-09-07T02:39:32.427835Z"
    },
    "scrolled": true
   },
   "outputs": [
    {
     "name": "stdout",
     "output_type": "stream",
     "text": [
      "<class 'pandas.core.frame.DataFrame'>\n",
      "RangeIndex: 384591 entries, 0 to 384590\n",
      "Data columns (total 13 columns):\n",
      " #   Column   Non-Null Count   Dtype  \n",
      "---  ------   --------------   -----  \n",
      " 0   번호       384591 non-null  int64  \n",
      " 1   도서명      384188 non-null  object \n",
      " 2   저자       384393 non-null  object \n",
      " 3   출판사      379950 non-null  object \n",
      " 4   발행년도     384577 non-null  object \n",
      " 5   ISBN     384591 non-null  object \n",
      " 6   세트 ISBN  56576 non-null   object \n",
      " 7   부가기호     310386 non-null  object \n",
      " 8   권        63378 non-null   object \n",
      " 9   주제분류번호   364727 non-null  object \n",
      " 10  도서권수     384591 non-null  int64  \n",
      " 11  대출건수     384591 non-null  float64\n",
      " 12  등록일자     384591 non-null  object \n",
      "dtypes: float64(1), int64(2), object(10)\n",
      "memory usage: 38.1+ MB\n"
     ]
    }
   ],
   "source": [
    "ns_book4.info()"
   ]
  },
  {
   "cell_type": "code",
   "execution_count": 4,
   "id": "434a7f49",
   "metadata": {
    "execution": {
     "iopub.execute_input": "2021-09-07T02:39:32.432485Z",
     "iopub.status.busy": "2021-09-07T02:39:32.430620Z",
     "iopub.status.idle": "2021-09-07T02:39:32.930800Z",
     "shell.execute_reply": "2021-09-07T02:39:32.929866Z"
    }
   },
   "outputs": [
    {
     "name": "stdout",
     "output_type": "stream",
     "text": [
      "<class 'pandas.core.frame.DataFrame'>\n",
      "RangeIndex: 384591 entries, 0 to 384590\n",
      "Data columns (total 13 columns):\n",
      " #   Column   Non-Null Count   Dtype  \n",
      "---  ------   --------------   -----  \n",
      " 0   번호       384591 non-null  int64  \n",
      " 1   도서명      384188 non-null  object \n",
      " 2   저자       384393 non-null  object \n",
      " 3   출판사      379950 non-null  object \n",
      " 4   발행년도     384577 non-null  object \n",
      " 5   ISBN     384591 non-null  object \n",
      " 6   세트 ISBN  56576 non-null   object \n",
      " 7   부가기호     310386 non-null  object \n",
      " 8   권        63378 non-null   object \n",
      " 9   주제분류번호   364727 non-null  object \n",
      " 10  도서권수     384591 non-null  int64  \n",
      " 11  대출건수     384591 non-null  float64\n",
      " 12  등록일자     384591 non-null  object \n",
      "dtypes: float64(1), int64(2), object(10)\n",
      "memory usage: 266.2 MB\n"
     ]
    }
   ],
   "source": [
    "ns_book4.info(memory_usage='deep')"
   ]
  },
  {
   "cell_type": "code",
   "execution_count": 5,
   "id": "3b4e5cb3",
   "metadata": {
    "execution": {
     "iopub.execute_input": "2021-09-07T02:39:32.935498Z",
     "iopub.status.busy": "2021-09-07T02:39:32.935123Z",
     "iopub.status.idle": "2021-09-07T02:39:33.078149Z",
     "shell.execute_reply": "2021-09-07T02:39:33.078717Z"
    }
   },
   "outputs": [
    {
     "data": {
      "text/plain": [
       "번호              0\n",
       "도서명           403\n",
       "저자            198\n",
       "출판사          4641\n",
       "발행년도           14\n",
       "ISBN            0\n",
       "세트 ISBN    328015\n",
       "부가기호        74205\n",
       "권          321213\n",
       "주제분류번호      19864\n",
       "도서권수            0\n",
       "대출건수            0\n",
       "등록일자            0\n",
       "dtype: int64"
      ]
     },
     "execution_count": 1,
     "metadata": {},
     "output_type": "execute_result"
    }
   ],
   "source": [
    "ns_book4.isna().sum()"
   ]
  },
  {
   "cell_type": "code",
   "execution_count": 6,
   "id": "d03cb9ce",
   "metadata": {
    "execution": {
     "iopub.execute_input": "2021-09-07T02:39:33.084003Z",
     "iopub.status.busy": "2021-09-07T02:39:33.083622Z",
     "iopub.status.idle": "2021-09-07T02:39:33.092341Z",
     "shell.execute_reply": "2021-09-07T02:39:33.091461Z"
    }
   },
   "outputs": [
    {
     "data": {
      "text/plain": [
       "1"
      ]
     },
     "execution_count": 1,
     "metadata": {},
     "output_type": "execute_result"
    }
   ],
   "source": [
    "ns_book4.loc[0, '도서권수'] = None\n",
    "ns_book4['도서권수'].isna().sum()"
   ]
  },
  {
   "cell_type": "code",
   "execution_count": 7,
   "id": "17d9ecb5",
   "metadata": {
    "execution": {
     "iopub.execute_input": "2021-09-07T02:39:33.109181Z",
     "iopub.status.busy": "2021-09-07T02:39:33.108361Z",
     "iopub.status.idle": "2021-09-07T02:39:33.111218Z",
     "shell.execute_reply": "2021-09-07T02:39:33.111891Z"
    }
   },
   "outputs": [
    {
     "data": {
      "text/html": [
       "<div>\n",
       "<style scoped>\n",
       "    .dataframe tbody tr th:only-of-type {\n",
       "        vertical-align: middle;\n",
       "    }\n",
       "\n",
       "    .dataframe tbody tr th {\n",
       "        vertical-align: top;\n",
       "    }\n",
       "\n",
       "    .dataframe thead th {\n",
       "        text-align: right;\n",
       "    }\n",
       "</style>\n",
       "<table border=\"1\" class=\"dataframe\">\n",
       "  <thead>\n",
       "    <tr style=\"text-align: right;\">\n",
       "      <th></th>\n",
       "      <th>번호</th>\n",
       "      <th>도서명</th>\n",
       "      <th>저자</th>\n",
       "      <th>출판사</th>\n",
       "      <th>발행년도</th>\n",
       "      <th>ISBN</th>\n",
       "      <th>세트 ISBN</th>\n",
       "      <th>부가기호</th>\n",
       "      <th>권</th>\n",
       "      <th>주제분류번호</th>\n",
       "      <th>도서권수</th>\n",
       "      <th>대출건수</th>\n",
       "      <th>등록일자</th>\n",
       "    </tr>\n",
       "  </thead>\n",
       "  <tbody>\n",
       "    <tr>\n",
       "      <th>0</th>\n",
       "      <td>1</td>\n",
       "      <td>인공지능과 흙</td>\n",
       "      <td>김동훈 지음</td>\n",
       "      <td>민음사</td>\n",
       "      <td>2021</td>\n",
       "      <td>9788937444319</td>\n",
       "      <td>NaN</td>\n",
       "      <td>NaN</td>\n",
       "      <td>NaN</td>\n",
       "      <td>NaN</td>\n",
       "      <td>NaN</td>\n",
       "      <td>0.0</td>\n",
       "      <td>2021-03-19</td>\n",
       "    </tr>\n",
       "    <tr>\n",
       "      <th>1</th>\n",
       "      <td>2</td>\n",
       "      <td>가짜 행복 권하는 사회</td>\n",
       "      <td>김태형 지음</td>\n",
       "      <td>갈매나무</td>\n",
       "      <td>2021</td>\n",
       "      <td>9791190123969</td>\n",
       "      <td>NaN</td>\n",
       "      <td>NaN</td>\n",
       "      <td>NaN</td>\n",
       "      <td>NaN</td>\n",
       "      <td>1.0</td>\n",
       "      <td>0.0</td>\n",
       "      <td>2021-03-19</td>\n",
       "    </tr>\n",
       "  </tbody>\n",
       "</table>\n",
       "</div>"
      ],
      "text/plain": [
       "   번호           도서명      저자   출판사  발행년도           ISBN 세트 ISBN 부가기호    권  \\\n",
       "0   1       인공지능과 흙  김동훈 지음   민음사  2021  9788937444319     NaN  NaN  NaN   \n",
       "1   2  가짜 행복 권하는 사회  김태형 지음  갈매나무  2021  9791190123969     NaN  NaN  NaN   \n",
       "\n",
       "  주제분류번호  도서권수  대출건수        등록일자  \n",
       "0    NaN   NaN   0.0  2021-03-19  \n",
       "1    NaN   1.0   0.0  2021-03-19  "
      ]
     },
     "execution_count": 1,
     "metadata": {},
     "output_type": "execute_result"
    }
   ],
   "source": [
    "ns_book4.head(2)"
   ]
  },
  {
   "cell_type": "code",
   "execution_count": 8,
   "id": "f1a98807",
   "metadata": {
    "execution": {
     "iopub.execute_input": "2021-09-07T02:39:33.116445Z",
     "iopub.status.busy": "2021-09-07T02:39:33.115625Z",
     "iopub.status.idle": "2021-09-07T02:39:33.200426Z",
     "shell.execute_reply": "2021-09-07T02:39:33.201117Z"
    }
   },
   "outputs": [
    {
     "data": {
      "text/html": [
       "<div>\n",
       "<style scoped>\n",
       "    .dataframe tbody tr th:only-of-type {\n",
       "        vertical-align: middle;\n",
       "    }\n",
       "\n",
       "    .dataframe tbody tr th {\n",
       "        vertical-align: top;\n",
       "    }\n",
       "\n",
       "    .dataframe thead th {\n",
       "        text-align: right;\n",
       "    }\n",
       "</style>\n",
       "<table border=\"1\" class=\"dataframe\">\n",
       "  <thead>\n",
       "    <tr style=\"text-align: right;\">\n",
       "      <th></th>\n",
       "      <th>번호</th>\n",
       "      <th>도서명</th>\n",
       "      <th>저자</th>\n",
       "      <th>출판사</th>\n",
       "      <th>발행년도</th>\n",
       "      <th>ISBN</th>\n",
       "      <th>세트 ISBN</th>\n",
       "      <th>부가기호</th>\n",
       "      <th>권</th>\n",
       "      <th>주제분류번호</th>\n",
       "      <th>도서권수</th>\n",
       "      <th>대출건수</th>\n",
       "      <th>등록일자</th>\n",
       "    </tr>\n",
       "  </thead>\n",
       "  <tbody>\n",
       "    <tr>\n",
       "      <th>0</th>\n",
       "      <td>1</td>\n",
       "      <td>인공지능과 흙</td>\n",
       "      <td>김동훈 지음</td>\n",
       "      <td>민음사</td>\n",
       "      <td>2021</td>\n",
       "      <td>9788937444319</td>\n",
       "      <td>NaN</td>\n",
       "      <td>NaN</td>\n",
       "      <td>NaN</td>\n",
       "      <td>NaN</td>\n",
       "      <td>1</td>\n",
       "      <td>0</td>\n",
       "      <td>2021-03-19</td>\n",
       "    </tr>\n",
       "    <tr>\n",
       "      <th>1</th>\n",
       "      <td>2</td>\n",
       "      <td>가짜 행복 권하는 사회</td>\n",
       "      <td>김태형 지음</td>\n",
       "      <td>갈매나무</td>\n",
       "      <td>2021</td>\n",
       "      <td>9791190123969</td>\n",
       "      <td>NaN</td>\n",
       "      <td>NaN</td>\n",
       "      <td>NaN</td>\n",
       "      <td>NaN</td>\n",
       "      <td>1</td>\n",
       "      <td>0</td>\n",
       "      <td>2021-03-19</td>\n",
       "    </tr>\n",
       "  </tbody>\n",
       "</table>\n",
       "</div>"
      ],
      "text/plain": [
       "   번호           도서명      저자   출판사  발행년도           ISBN 세트 ISBN 부가기호    권  \\\n",
       "0   1       인공지능과 흙  김동훈 지음   민음사  2021  9788937444319     NaN  NaN  NaN   \n",
       "1   2  가짜 행복 권하는 사회  김태형 지음  갈매나무  2021  9791190123969     NaN  NaN  NaN   \n",
       "\n",
       "  주제분류번호  도서권수  대출건수        등록일자  \n",
       "0    NaN     1     0  2021-03-19  \n",
       "1    NaN     1     0  2021-03-19  "
      ]
     },
     "execution_count": 1,
     "metadata": {},
     "output_type": "execute_result"
    }
   ],
   "source": [
    "ns_book4.loc[0, '도서권수'] = 1\n",
    "ns_book4 = ns_book4.astype({'도서권수':'int32', '대출건수': 'int32'})\n",
    "ns_book4.head(2)"
   ]
  },
  {
   "cell_type": "code",
   "execution_count": 9,
   "id": "79d4d928",
   "metadata": {
    "execution": {
     "iopub.execute_input": "2021-09-07T02:39:33.204809Z",
     "iopub.status.busy": "2021-09-07T02:39:33.204427Z",
     "iopub.status.idle": "2021-09-07T02:39:33.228037Z",
     "shell.execute_reply": "2021-09-07T02:39:33.227692Z"
    }
   },
   "outputs": [
    {
     "data": {
      "text/html": [
       "<div>\n",
       "<style scoped>\n",
       "    .dataframe tbody tr th:only-of-type {\n",
       "        vertical-align: middle;\n",
       "    }\n",
       "\n",
       "    .dataframe tbody tr th {\n",
       "        vertical-align: top;\n",
       "    }\n",
       "\n",
       "    .dataframe thead th {\n",
       "        text-align: right;\n",
       "    }\n",
       "</style>\n",
       "<table border=\"1\" class=\"dataframe\">\n",
       "  <thead>\n",
       "    <tr style=\"text-align: right;\">\n",
       "      <th></th>\n",
       "      <th>번호</th>\n",
       "      <th>도서명</th>\n",
       "      <th>저자</th>\n",
       "      <th>출판사</th>\n",
       "      <th>발행년도</th>\n",
       "      <th>ISBN</th>\n",
       "      <th>세트 ISBN</th>\n",
       "      <th>부가기호</th>\n",
       "      <th>권</th>\n",
       "      <th>주제분류번호</th>\n",
       "      <th>도서권수</th>\n",
       "      <th>대출건수</th>\n",
       "      <th>등록일자</th>\n",
       "    </tr>\n",
       "  </thead>\n",
       "  <tbody>\n",
       "    <tr>\n",
       "      <th>0</th>\n",
       "      <td>1</td>\n",
       "      <td>인공지능과 흙</td>\n",
       "      <td>김동훈 지음</td>\n",
       "      <td>민음사</td>\n",
       "      <td>2021</td>\n",
       "      <td>9788937444319</td>\n",
       "      <td>NaN</td>\n",
       "      <td>None</td>\n",
       "      <td>NaN</td>\n",
       "      <td>NaN</td>\n",
       "      <td>1</td>\n",
       "      <td>0</td>\n",
       "      <td>2021-03-19</td>\n",
       "    </tr>\n",
       "    <tr>\n",
       "      <th>1</th>\n",
       "      <td>2</td>\n",
       "      <td>가짜 행복 권하는 사회</td>\n",
       "      <td>김태형 지음</td>\n",
       "      <td>갈매나무</td>\n",
       "      <td>2021</td>\n",
       "      <td>9791190123969</td>\n",
       "      <td>NaN</td>\n",
       "      <td>NaN</td>\n",
       "      <td>NaN</td>\n",
       "      <td>NaN</td>\n",
       "      <td>1</td>\n",
       "      <td>0</td>\n",
       "      <td>2021-03-19</td>\n",
       "    </tr>\n",
       "  </tbody>\n",
       "</table>\n",
       "</div>"
      ],
      "text/plain": [
       "   번호           도서명      저자   출판사  발행년도           ISBN 세트 ISBN  부가기호    권  \\\n",
       "0   1       인공지능과 흙  김동훈 지음   민음사  2021  9788937444319     NaN  None  NaN   \n",
       "1   2  가짜 행복 권하는 사회  김태형 지음  갈매나무  2021  9791190123969     NaN   NaN  NaN   \n",
       "\n",
       "  주제분류번호  도서권수  대출건수        등록일자  \n",
       "0    NaN     1     0  2021-03-19  \n",
       "1    NaN     1     0  2021-03-19  "
      ]
     },
     "execution_count": 1,
     "metadata": {},
     "output_type": "execute_result"
    }
   ],
   "source": [
    "ns_book4.loc[0, '부가기호'] = None\n",
    "ns_book4.head(2)"
   ]
  },
  {
   "cell_type": "code",
   "execution_count": 10,
   "id": "778a0fd9",
   "metadata": {
    "execution": {
     "iopub.execute_input": "2021-09-07T02:39:33.233777Z",
     "iopub.status.busy": "2021-09-07T02:39:33.232841Z",
     "iopub.status.idle": "2021-09-07T02:39:33.266810Z",
     "shell.execute_reply": "2021-09-07T02:39:33.266453Z"
    }
   },
   "outputs": [
    {
     "data": {
      "text/html": [
       "<div>\n",
       "<style scoped>\n",
       "    .dataframe tbody tr th:only-of-type {\n",
       "        vertical-align: middle;\n",
       "    }\n",
       "\n",
       "    .dataframe tbody tr th {\n",
       "        vertical-align: top;\n",
       "    }\n",
       "\n",
       "    .dataframe thead th {\n",
       "        text-align: right;\n",
       "    }\n",
       "</style>\n",
       "<table border=\"1\" class=\"dataframe\">\n",
       "  <thead>\n",
       "    <tr style=\"text-align: right;\">\n",
       "      <th></th>\n",
       "      <th>번호</th>\n",
       "      <th>도서명</th>\n",
       "      <th>저자</th>\n",
       "      <th>출판사</th>\n",
       "      <th>발행년도</th>\n",
       "      <th>ISBN</th>\n",
       "      <th>세트 ISBN</th>\n",
       "      <th>부가기호</th>\n",
       "      <th>권</th>\n",
       "      <th>주제분류번호</th>\n",
       "      <th>도서권수</th>\n",
       "      <th>대출건수</th>\n",
       "      <th>등록일자</th>\n",
       "    </tr>\n",
       "  </thead>\n",
       "  <tbody>\n",
       "    <tr>\n",
       "      <th>0</th>\n",
       "      <td>1</td>\n",
       "      <td>인공지능과 흙</td>\n",
       "      <td>김동훈 지음</td>\n",
       "      <td>민음사</td>\n",
       "      <td>2021</td>\n",
       "      <td>9788937444319</td>\n",
       "      <td>NaN</td>\n",
       "      <td>NaN</td>\n",
       "      <td>NaN</td>\n",
       "      <td>NaN</td>\n",
       "      <td>1</td>\n",
       "      <td>0</td>\n",
       "      <td>2021-03-19</td>\n",
       "    </tr>\n",
       "    <tr>\n",
       "      <th>1</th>\n",
       "      <td>2</td>\n",
       "      <td>가짜 행복 권하는 사회</td>\n",
       "      <td>김태형 지음</td>\n",
       "      <td>갈매나무</td>\n",
       "      <td>2021</td>\n",
       "      <td>9791190123969</td>\n",
       "      <td>NaN</td>\n",
       "      <td>NaN</td>\n",
       "      <td>NaN</td>\n",
       "      <td>NaN</td>\n",
       "      <td>1</td>\n",
       "      <td>0</td>\n",
       "      <td>2021-03-19</td>\n",
       "    </tr>\n",
       "  </tbody>\n",
       "</table>\n",
       "</div>"
      ],
      "text/plain": [
       "   번호           도서명      저자   출판사  발행년도           ISBN 세트 ISBN 부가기호    권  \\\n",
       "0   1       인공지능과 흙  김동훈 지음   민음사  2021  9788937444319     NaN  NaN  NaN   \n",
       "1   2  가짜 행복 권하는 사회  김태형 지음  갈매나무  2021  9791190123969     NaN  NaN  NaN   \n",
       "\n",
       "  주제분류번호  도서권수  대출건수        등록일자  \n",
       "0    NaN     1     0  2021-03-19  \n",
       "1    NaN     1     0  2021-03-19  "
      ]
     },
     "execution_count": 1,
     "metadata": {},
     "output_type": "execute_result"
    }
   ],
   "source": [
    "import numpy as np\n",
    "\n",
    "ns_book4.loc[0, '부가기호'] = np.nan\n",
    "ns_book4.head(2)"
   ]
  },
  {
   "cell_type": "markdown",
   "id": "f52c9c88",
   "metadata": {},
   "source": [
    "## 누락된 값 바꾸기"
   ]
  },
  {
   "cell_type": "code",
   "execution_count": 11,
   "id": "5ff583ec",
   "metadata": {
    "execution": {
     "iopub.execute_input": "2021-09-07T02:39:33.286458Z",
     "iopub.status.busy": "2021-09-07T02:39:33.285615Z",
     "iopub.status.idle": "2021-09-07T02:39:33.309445Z",
     "shell.execute_reply": "2021-09-07T02:39:33.309075Z"
    }
   },
   "outputs": [
    {
     "data": {
      "text/plain": [
       "0"
      ]
     },
     "execution_count": 1,
     "metadata": {},
     "output_type": "execute_result"
    }
   ],
   "source": [
    "set_isbn_na_rows = ns_book4['세트 ISBN'].isna()\n",
    "ns_book4.loc[set_isbn_na_rows, '세트 ISBN'] = ''\n",
    "\n",
    "ns_book4['세트 ISBN'].isna().sum()"
   ]
  },
  {
   "cell_type": "code",
   "execution_count": 12,
   "id": "82670d93",
   "metadata": {
    "execution": {
     "iopub.execute_input": "2021-09-07T02:39:33.313466Z",
     "iopub.status.busy": "2021-09-07T02:39:33.313089Z",
     "iopub.status.idle": "2021-09-07T02:39:33.590846Z",
     "shell.execute_reply": "2021-09-07T02:39:33.591545Z"
    }
   },
   "outputs": [
    {
     "data": {
      "text/plain": [
       "번호         0\n",
       "도서명        0\n",
       "저자         0\n",
       "출판사        0\n",
       "발행년도       0\n",
       "ISBN       0\n",
       "세트 ISBN    0\n",
       "부가기호       0\n",
       "권          0\n",
       "주제분류번호     0\n",
       "도서권수       0\n",
       "대출건수       0\n",
       "등록일자       0\n",
       "dtype: int64"
      ]
     },
     "execution_count": 1,
     "metadata": {},
     "output_type": "execute_result"
    }
   ],
   "source": [
    "ns_book4.fillna('없음').isna().sum()"
   ]
  },
  {
   "cell_type": "code",
   "execution_count": 13,
   "id": "da237558",
   "metadata": {
    "execution": {
     "iopub.execute_input": "2021-09-07T02:39:33.609977Z",
     "iopub.status.busy": "2021-09-07T02:39:33.609139Z",
     "iopub.status.idle": "2021-09-07T02:39:33.626748Z",
     "shell.execute_reply": "2021-09-07T02:39:33.625899Z"
    }
   },
   "outputs": [
    {
     "data": {
      "text/plain": [
       "0"
      ]
     },
     "execution_count": 1,
     "metadata": {},
     "output_type": "execute_result"
    }
   ],
   "source": [
    "ns_book4['부가기호'].fillna('없음').isna().sum()"
   ]
  },
  {
   "cell_type": "code",
   "execution_count": 14,
   "id": "d653319a",
   "metadata": {
    "execution": {
     "iopub.execute_input": "2021-09-07T02:39:33.631143Z",
     "iopub.status.busy": "2021-09-07T02:39:33.630077Z",
     "iopub.status.idle": "2021-09-07T02:39:33.795194Z",
     "shell.execute_reply": "2021-09-07T02:39:33.794438Z"
    }
   },
   "outputs": [
    {
     "data": {
      "text/plain": [
       "번호              0\n",
       "도서명           403\n",
       "저자            198\n",
       "출판사          4641\n",
       "발행년도           14\n",
       "ISBN            0\n",
       "세트 ISBN         0\n",
       "부가기호            0\n",
       "권          321213\n",
       "주제분류번호      19864\n",
       "도서권수            0\n",
       "대출건수            0\n",
       "등록일자            0\n",
       "dtype: int64"
      ]
     },
     "execution_count": 1,
     "metadata": {},
     "output_type": "execute_result"
    }
   ],
   "source": [
    "ns_book4.fillna({'부가기호':'없음'}).isna().sum()"
   ]
  },
  {
   "cell_type": "code",
   "execution_count": 15,
   "id": "241a4d91",
   "metadata": {
    "execution": {
     "iopub.execute_input": "2021-09-07T02:39:33.798670Z",
     "iopub.status.busy": "2021-09-07T02:39:33.798250Z",
     "iopub.status.idle": "2021-09-07T02:39:34.074964Z",
     "shell.execute_reply": "2021-09-07T02:39:34.074548Z"
    }
   },
   "outputs": [
    {
     "data": {
      "text/plain": [
       "번호         0\n",
       "도서명        0\n",
       "저자         0\n",
       "출판사        0\n",
       "발행년도       0\n",
       "ISBN       0\n",
       "세트 ISBN    0\n",
       "부가기호       0\n",
       "권          0\n",
       "주제분류번호     0\n",
       "도서권수       0\n",
       "대출건수       0\n",
       "등록일자       0\n",
       "dtype: int64"
      ]
     },
     "execution_count": 1,
     "metadata": {},
     "output_type": "execute_result"
    }
   ],
   "source": [
    "ns_book4.replace(np.nan, '없음').isna().sum()"
   ]
  },
  {
   "cell_type": "code",
   "execution_count": 16,
   "id": "bed64b14",
   "metadata": {
    "execution": {
     "iopub.execute_input": "2021-09-07T02:39:34.106317Z",
     "iopub.status.busy": "2021-09-07T02:39:34.105629Z",
     "iopub.status.idle": "2021-09-07T02:39:34.611078Z",
     "shell.execute_reply": "2021-09-07T02:39:34.610214Z"
    }
   },
   "outputs": [
    {
     "data": {
      "text/html": [
       "<div>\n",
       "<style scoped>\n",
       "    .dataframe tbody tr th:only-of-type {\n",
       "        vertical-align: middle;\n",
       "    }\n",
       "\n",
       "    .dataframe tbody tr th {\n",
       "        vertical-align: top;\n",
       "    }\n",
       "\n",
       "    .dataframe thead th {\n",
       "        text-align: right;\n",
       "    }\n",
       "</style>\n",
       "<table border=\"1\" class=\"dataframe\">\n",
       "  <thead>\n",
       "    <tr style=\"text-align: right;\">\n",
       "      <th></th>\n",
       "      <th>번호</th>\n",
       "      <th>도서명</th>\n",
       "      <th>저자</th>\n",
       "      <th>출판사</th>\n",
       "      <th>발행년도</th>\n",
       "      <th>ISBN</th>\n",
       "      <th>세트 ISBN</th>\n",
       "      <th>부가기호</th>\n",
       "      <th>권</th>\n",
       "      <th>주제분류번호</th>\n",
       "      <th>도서권수</th>\n",
       "      <th>대출건수</th>\n",
       "      <th>등록일자</th>\n",
       "    </tr>\n",
       "  </thead>\n",
       "  <tbody>\n",
       "    <tr>\n",
       "      <th>0</th>\n",
       "      <td>1</td>\n",
       "      <td>인공지능과 흙</td>\n",
       "      <td>김동훈 지음</td>\n",
       "      <td>민음사</td>\n",
       "      <td>21</td>\n",
       "      <td>9788937444319</td>\n",
       "      <td></td>\n",
       "      <td>없음</td>\n",
       "      <td>없음</td>\n",
       "      <td>없음</td>\n",
       "      <td>1</td>\n",
       "      <td>0</td>\n",
       "      <td>2021-03-19</td>\n",
       "    </tr>\n",
       "    <tr>\n",
       "      <th>1</th>\n",
       "      <td>2</td>\n",
       "      <td>가짜 행복 권하는 사회</td>\n",
       "      <td>김태형 지음</td>\n",
       "      <td>갈매나무</td>\n",
       "      <td>21</td>\n",
       "      <td>9791190123969</td>\n",
       "      <td></td>\n",
       "      <td>없음</td>\n",
       "      <td>없음</td>\n",
       "      <td>없음</td>\n",
       "      <td>1</td>\n",
       "      <td>0</td>\n",
       "      <td>2021-03-19</td>\n",
       "    </tr>\n",
       "  </tbody>\n",
       "</table>\n",
       "</div>"
      ],
      "text/plain": [
       "   번호           도서명      저자   출판사 발행년도           ISBN 세트 ISBN 부가기호   권 주제분류번호  \\\n",
       "0   1       인공지능과 흙  김동훈 지음   민음사   21  9788937444319           없음  없음     없음   \n",
       "1   2  가짜 행복 권하는 사회  김태형 지음  갈매나무   21  9791190123969           없음  없음     없음   \n",
       "\n",
       "   도서권수  대출건수        등록일자  \n",
       "0     1     0  2021-03-19  \n",
       "1     1     0  2021-03-19  "
      ]
     },
     "execution_count": 1,
     "metadata": {},
     "output_type": "execute_result"
    }
   ],
   "source": [
    "ns_book4.replace([np.nan, '2021'], ['없음', '21']).head(2)"
   ]
  },
  {
   "cell_type": "code",
   "execution_count": 17,
   "id": "713026df",
   "metadata": {
    "execution": {
     "iopub.execute_input": "2021-09-07T02:39:34.615702Z",
     "iopub.status.busy": "2021-09-07T02:39:34.614658Z",
     "iopub.status.idle": "2021-09-07T02:39:35.120230Z",
     "shell.execute_reply": "2021-09-07T02:39:35.119471Z"
    }
   },
   "outputs": [
    {
     "data": {
      "text/html": [
       "<div>\n",
       "<style scoped>\n",
       "    .dataframe tbody tr th:only-of-type {\n",
       "        vertical-align: middle;\n",
       "    }\n",
       "\n",
       "    .dataframe tbody tr th {\n",
       "        vertical-align: top;\n",
       "    }\n",
       "\n",
       "    .dataframe thead th {\n",
       "        text-align: right;\n",
       "    }\n",
       "</style>\n",
       "<table border=\"1\" class=\"dataframe\">\n",
       "  <thead>\n",
       "    <tr style=\"text-align: right;\">\n",
       "      <th></th>\n",
       "      <th>번호</th>\n",
       "      <th>도서명</th>\n",
       "      <th>저자</th>\n",
       "      <th>출판사</th>\n",
       "      <th>발행년도</th>\n",
       "      <th>ISBN</th>\n",
       "      <th>세트 ISBN</th>\n",
       "      <th>부가기호</th>\n",
       "      <th>권</th>\n",
       "      <th>주제분류번호</th>\n",
       "      <th>도서권수</th>\n",
       "      <th>대출건수</th>\n",
       "      <th>등록일자</th>\n",
       "    </tr>\n",
       "  </thead>\n",
       "  <tbody>\n",
       "    <tr>\n",
       "      <th>0</th>\n",
       "      <td>1</td>\n",
       "      <td>인공지능과 흙</td>\n",
       "      <td>김동훈 지음</td>\n",
       "      <td>민음사</td>\n",
       "      <td>21</td>\n",
       "      <td>9788937444319</td>\n",
       "      <td></td>\n",
       "      <td>없음</td>\n",
       "      <td>없음</td>\n",
       "      <td>없음</td>\n",
       "      <td>1</td>\n",
       "      <td>0</td>\n",
       "      <td>2021-03-19</td>\n",
       "    </tr>\n",
       "    <tr>\n",
       "      <th>1</th>\n",
       "      <td>2</td>\n",
       "      <td>가짜 행복 권하는 사회</td>\n",
       "      <td>김태형 지음</td>\n",
       "      <td>갈매나무</td>\n",
       "      <td>21</td>\n",
       "      <td>9791190123969</td>\n",
       "      <td></td>\n",
       "      <td>없음</td>\n",
       "      <td>없음</td>\n",
       "      <td>없음</td>\n",
       "      <td>1</td>\n",
       "      <td>0</td>\n",
       "      <td>2021-03-19</td>\n",
       "    </tr>\n",
       "  </tbody>\n",
       "</table>\n",
       "</div>"
      ],
      "text/plain": [
       "   번호           도서명      저자   출판사 발행년도           ISBN 세트 ISBN 부가기호   권 주제분류번호  \\\n",
       "0   1       인공지능과 흙  김동훈 지음   민음사   21  9788937444319           없음  없음     없음   \n",
       "1   2  가짜 행복 권하는 사회  김태형 지음  갈매나무   21  9791190123969           없음  없음     없음   \n",
       "\n",
       "   도서권수  대출건수        등록일자  \n",
       "0     1     0  2021-03-19  \n",
       "1     1     0  2021-03-19  "
      ]
     },
     "execution_count": 1,
     "metadata": {},
     "output_type": "execute_result"
    }
   ],
   "source": [
    "ns_book4.replace({np.nan: '없음', '2021': '21'}).head(2)"
   ]
  },
  {
   "cell_type": "code",
   "execution_count": 18,
   "id": "66996732",
   "metadata": {
    "execution": {
     "iopub.execute_input": "2021-09-07T02:39:35.125049Z",
     "iopub.status.busy": "2021-09-07T02:39:35.124664Z",
     "iopub.status.idle": "2021-09-07T02:39:35.170731Z",
     "shell.execute_reply": "2021-09-07T02:39:35.170374Z"
    }
   },
   "outputs": [
    {
     "data": {
      "text/html": [
       "<div>\n",
       "<style scoped>\n",
       "    .dataframe tbody tr th:only-of-type {\n",
       "        vertical-align: middle;\n",
       "    }\n",
       "\n",
       "    .dataframe tbody tr th {\n",
       "        vertical-align: top;\n",
       "    }\n",
       "\n",
       "    .dataframe thead th {\n",
       "        text-align: right;\n",
       "    }\n",
       "</style>\n",
       "<table border=\"1\" class=\"dataframe\">\n",
       "  <thead>\n",
       "    <tr style=\"text-align: right;\">\n",
       "      <th></th>\n",
       "      <th>번호</th>\n",
       "      <th>도서명</th>\n",
       "      <th>저자</th>\n",
       "      <th>출판사</th>\n",
       "      <th>발행년도</th>\n",
       "      <th>ISBN</th>\n",
       "      <th>세트 ISBN</th>\n",
       "      <th>부가기호</th>\n",
       "      <th>권</th>\n",
       "      <th>주제분류번호</th>\n",
       "      <th>도서권수</th>\n",
       "      <th>대출건수</th>\n",
       "      <th>등록일자</th>\n",
       "    </tr>\n",
       "  </thead>\n",
       "  <tbody>\n",
       "    <tr>\n",
       "      <th>0</th>\n",
       "      <td>1</td>\n",
       "      <td>인공지능과 흙</td>\n",
       "      <td>김동훈 지음</td>\n",
       "      <td>민음사</td>\n",
       "      <td>2021</td>\n",
       "      <td>9788937444319</td>\n",
       "      <td></td>\n",
       "      <td>없음</td>\n",
       "      <td>NaN</td>\n",
       "      <td>NaN</td>\n",
       "      <td>1</td>\n",
       "      <td>0</td>\n",
       "      <td>2021-03-19</td>\n",
       "    </tr>\n",
       "    <tr>\n",
       "      <th>1</th>\n",
       "      <td>2</td>\n",
       "      <td>가짜 행복 권하는 사회</td>\n",
       "      <td>김태형 지음</td>\n",
       "      <td>갈매나무</td>\n",
       "      <td>2021</td>\n",
       "      <td>9791190123969</td>\n",
       "      <td></td>\n",
       "      <td>없음</td>\n",
       "      <td>NaN</td>\n",
       "      <td>NaN</td>\n",
       "      <td>1</td>\n",
       "      <td>0</td>\n",
       "      <td>2021-03-19</td>\n",
       "    </tr>\n",
       "  </tbody>\n",
       "</table>\n",
       "</div>"
      ],
      "text/plain": [
       "   번호           도서명      저자   출판사  발행년도           ISBN 세트 ISBN 부가기호    권  \\\n",
       "0   1       인공지능과 흙  김동훈 지음   민음사  2021  9788937444319           없음  NaN   \n",
       "1   2  가짜 행복 권하는 사회  김태형 지음  갈매나무  2021  9791190123969           없음  NaN   \n",
       "\n",
       "  주제분류번호  도서권수  대출건수        등록일자  \n",
       "0    NaN     1     0  2021-03-19  \n",
       "1    NaN     1     0  2021-03-19  "
      ]
     },
     "execution_count": 1,
     "metadata": {},
     "output_type": "execute_result"
    }
   ],
   "source": [
    "ns_book4.replace({'부가기호': np.nan}, '없음').head(2)"
   ]
  },
  {
   "cell_type": "code",
   "execution_count": 19,
   "id": "66401359",
   "metadata": {
    "execution": {
     "iopub.execute_input": "2021-09-07T02:39:35.175407Z",
     "iopub.status.busy": "2021-09-07T02:39:35.175028Z",
     "iopub.status.idle": "2021-09-07T02:39:35.264026Z",
     "shell.execute_reply": "2021-09-07T02:39:35.264360Z"
    }
   },
   "outputs": [
    {
     "data": {
      "text/html": [
       "<div>\n",
       "<style scoped>\n",
       "    .dataframe tbody tr th:only-of-type {\n",
       "        vertical-align: middle;\n",
       "    }\n",
       "\n",
       "    .dataframe tbody tr th {\n",
       "        vertical-align: top;\n",
       "    }\n",
       "\n",
       "    .dataframe thead th {\n",
       "        text-align: right;\n",
       "    }\n",
       "</style>\n",
       "<table border=\"1\" class=\"dataframe\">\n",
       "  <thead>\n",
       "    <tr style=\"text-align: right;\">\n",
       "      <th></th>\n",
       "      <th>번호</th>\n",
       "      <th>도서명</th>\n",
       "      <th>저자</th>\n",
       "      <th>출판사</th>\n",
       "      <th>발행년도</th>\n",
       "      <th>ISBN</th>\n",
       "      <th>세트 ISBN</th>\n",
       "      <th>부가기호</th>\n",
       "      <th>권</th>\n",
       "      <th>주제분류번호</th>\n",
       "      <th>도서권수</th>\n",
       "      <th>대출건수</th>\n",
       "      <th>등록일자</th>\n",
       "    </tr>\n",
       "  </thead>\n",
       "  <tbody>\n",
       "    <tr>\n",
       "      <th>0</th>\n",
       "      <td>1</td>\n",
       "      <td>인공지능과 흙</td>\n",
       "      <td>김동훈 지음</td>\n",
       "      <td>민음사</td>\n",
       "      <td>21</td>\n",
       "      <td>9788937444319</td>\n",
       "      <td></td>\n",
       "      <td>없음</td>\n",
       "      <td>NaN</td>\n",
       "      <td>NaN</td>\n",
       "      <td>1</td>\n",
       "      <td>0</td>\n",
       "      <td>2021-03-19</td>\n",
       "    </tr>\n",
       "    <tr>\n",
       "      <th>1</th>\n",
       "      <td>2</td>\n",
       "      <td>가짜 행복 권하는 사회</td>\n",
       "      <td>김태형 지음</td>\n",
       "      <td>갈매나무</td>\n",
       "      <td>21</td>\n",
       "      <td>9791190123969</td>\n",
       "      <td></td>\n",
       "      <td>없음</td>\n",
       "      <td>NaN</td>\n",
       "      <td>NaN</td>\n",
       "      <td>1</td>\n",
       "      <td>0</td>\n",
       "      <td>2021-03-19</td>\n",
       "    </tr>\n",
       "  </tbody>\n",
       "</table>\n",
       "</div>"
      ],
      "text/plain": [
       "   번호           도서명      저자   출판사 발행년도           ISBN 세트 ISBN 부가기호    권  \\\n",
       "0   1       인공지능과 흙  김동훈 지음   민음사   21  9788937444319           없음  NaN   \n",
       "1   2  가짜 행복 권하는 사회  김태형 지음  갈매나무   21  9791190123969           없음  NaN   \n",
       "\n",
       "  주제분류번호  도서권수  대출건수        등록일자  \n",
       "0    NaN     1     0  2021-03-19  \n",
       "1    NaN     1     0  2021-03-19  "
      ]
     },
     "execution_count": 1,
     "metadata": {},
     "output_type": "execute_result"
    }
   ],
   "source": [
    "ns_book4.replace({'부가기호': {np.nan: '없음'}, '발행년도': {'2021': '21'}}).head(2)"
   ]
  },
  {
   "cell_type": "markdown",
   "id": "c184bd43",
   "metadata": {},
   "source": [
    "## 정규 표현식"
   ]
  },
  {
   "cell_type": "code",
   "execution_count": 20,
   "id": "890a26ce",
   "metadata": {
    "execution": {
     "iopub.execute_input": "2021-09-07T02:39:35.269165Z",
     "iopub.status.busy": "2021-09-07T02:39:35.268783Z",
     "iopub.status.idle": "2021-09-07T02:39:35.338578Z",
     "shell.execute_reply": "2021-09-07T02:39:35.338210Z"
    }
   },
   "outputs": [
    {
     "data": {
      "text/html": [
       "<div>\n",
       "<style scoped>\n",
       "    .dataframe tbody tr th:only-of-type {\n",
       "        vertical-align: middle;\n",
       "    }\n",
       "\n",
       "    .dataframe tbody tr th {\n",
       "        vertical-align: top;\n",
       "    }\n",
       "\n",
       "    .dataframe thead th {\n",
       "        text-align: right;\n",
       "    }\n",
       "</style>\n",
       "<table border=\"1\" class=\"dataframe\">\n",
       "  <thead>\n",
       "    <tr style=\"text-align: right;\">\n",
       "      <th></th>\n",
       "      <th>번호</th>\n",
       "      <th>도서명</th>\n",
       "      <th>저자</th>\n",
       "      <th>출판사</th>\n",
       "      <th>발행년도</th>\n",
       "      <th>ISBN</th>\n",
       "      <th>세트 ISBN</th>\n",
       "      <th>부가기호</th>\n",
       "      <th>권</th>\n",
       "      <th>주제분류번호</th>\n",
       "      <th>도서권수</th>\n",
       "      <th>대출건수</th>\n",
       "      <th>등록일자</th>\n",
       "    </tr>\n",
       "  </thead>\n",
       "  <tbody>\n",
       "    <tr>\n",
       "      <th>100</th>\n",
       "      <td>101</td>\n",
       "      <td>No라고 말할 줄 아는 남편과 아내 - 개정판</td>\n",
       "      <td>헨리 클라우드, 존 타운센드 (지은이), 김진웅 (옮긴이)</td>\n",
       "      <td>좋은씨앗</td>\n",
       "      <td>2018</td>\n",
       "      <td>9788958743019</td>\n",
       "      <td></td>\n",
       "      <td>NaN</td>\n",
       "      <td>NaN</td>\n",
       "      <td>234.9</td>\n",
       "      <td>1</td>\n",
       "      <td>1</td>\n",
       "      <td>2021-03-15</td>\n",
       "    </tr>\n",
       "    <tr>\n",
       "      <th>101</th>\n",
       "      <td>102</td>\n",
       "      <td>D2C 레볼루션 - 스타트업부터 글로벌 기업까지, 마켓 체인저의 필수 전략</td>\n",
       "      <td>로런스 인그래시아 (지은이), 안기순 (옮긴이)</td>\n",
       "      <td>부키</td>\n",
       "      <td>21</td>\n",
       "      <td>9788960518483</td>\n",
       "      <td></td>\n",
       "      <td>NaN</td>\n",
       "      <td>NaN</td>\n",
       "      <td>325.1</td>\n",
       "      <td>1</td>\n",
       "      <td>0</td>\n",
       "      <td>2021-03-15</td>\n",
       "    </tr>\n",
       "  </tbody>\n",
       "</table>\n",
       "</div>"
      ],
      "text/plain": [
       "      번호                                        도서명  \\\n",
       "100  101                  No라고 말할 줄 아는 남편과 아내 - 개정판   \n",
       "101  102  D2C 레볼루션 - 스타트업부터 글로벌 기업까지, 마켓 체인저의 필수 전략   \n",
       "\n",
       "                                   저자   출판사  발행년도           ISBN 세트 ISBN 부가기호  \\\n",
       "100  헨리 클라우드, 존 타운센드 (지은이), 김진웅 (옮긴이)  좋은씨앗  2018  9788958743019          NaN   \n",
       "101        로런스 인그래시아 (지은이), 안기순 (옮긴이)    부키    21  9788960518483          NaN   \n",
       "\n",
       "       권 주제분류번호  도서권수  대출건수        등록일자  \n",
       "100  NaN  234.9     1     1  2021-03-15  \n",
       "101  NaN  325.1     1     0  2021-03-15  "
      ]
     },
     "execution_count": 1,
     "metadata": {},
     "output_type": "execute_result"
    }
   ],
   "source": [
    "ns_book4.replace({'발행년도': {'2021': '21'}})[100:102]"
   ]
  },
  {
   "cell_type": "code",
   "execution_count": 21,
   "id": "16b2e54d",
   "metadata": {
    "execution": {
     "iopub.execute_input": "2021-09-07T02:39:35.343165Z",
     "iopub.status.busy": "2021-09-07T02:39:35.342792Z",
     "iopub.status.idle": "2021-09-07T02:39:36.968362Z",
     "shell.execute_reply": "2021-09-07T02:39:36.967493Z"
    },
    "scrolled": false
   },
   "outputs": [
    {
     "data": {
      "text/html": [
       "<div>\n",
       "<style scoped>\n",
       "    .dataframe tbody tr th:only-of-type {\n",
       "        vertical-align: middle;\n",
       "    }\n",
       "\n",
       "    .dataframe tbody tr th {\n",
       "        vertical-align: top;\n",
       "    }\n",
       "\n",
       "    .dataframe thead th {\n",
       "        text-align: right;\n",
       "    }\n",
       "</style>\n",
       "<table border=\"1\" class=\"dataframe\">\n",
       "  <thead>\n",
       "    <tr style=\"text-align: right;\">\n",
       "      <th></th>\n",
       "      <th>번호</th>\n",
       "      <th>도서명</th>\n",
       "      <th>저자</th>\n",
       "      <th>출판사</th>\n",
       "      <th>발행년도</th>\n",
       "      <th>ISBN</th>\n",
       "      <th>세트 ISBN</th>\n",
       "      <th>부가기호</th>\n",
       "      <th>권</th>\n",
       "      <th>주제분류번호</th>\n",
       "      <th>도서권수</th>\n",
       "      <th>대출건수</th>\n",
       "      <th>등록일자</th>\n",
       "    </tr>\n",
       "  </thead>\n",
       "  <tbody>\n",
       "    <tr>\n",
       "      <th>100</th>\n",
       "      <td>101</td>\n",
       "      <td>No라고 말할 줄 아는 남편과 아내 - 개정판</td>\n",
       "      <td>헨리 클라우드, 존 타운센드 (지은이), 김진웅 (옮긴이)</td>\n",
       "      <td>좋은씨앗</td>\n",
       "      <td>18</td>\n",
       "      <td>9788958743019</td>\n",
       "      <td></td>\n",
       "      <td>NaN</td>\n",
       "      <td>NaN</td>\n",
       "      <td>234.9</td>\n",
       "      <td>1</td>\n",
       "      <td>1</td>\n",
       "      <td>2021-03-15</td>\n",
       "    </tr>\n",
       "    <tr>\n",
       "      <th>101</th>\n",
       "      <td>102</td>\n",
       "      <td>D2C 레볼루션 - 스타트업부터 글로벌 기업까지, 마켓 체인저의 필수 전략</td>\n",
       "      <td>로런스 인그래시아 (지은이), 안기순 (옮긴이)</td>\n",
       "      <td>부키</td>\n",
       "      <td>21</td>\n",
       "      <td>9788960518483</td>\n",
       "      <td></td>\n",
       "      <td>NaN</td>\n",
       "      <td>NaN</td>\n",
       "      <td>325.1</td>\n",
       "      <td>1</td>\n",
       "      <td>0</td>\n",
       "      <td>2021-03-15</td>\n",
       "    </tr>\n",
       "  </tbody>\n",
       "</table>\n",
       "</div>"
      ],
      "text/plain": [
       "      번호                                        도서명  \\\n",
       "100  101                  No라고 말할 줄 아는 남편과 아내 - 개정판   \n",
       "101  102  D2C 레볼루션 - 스타트업부터 글로벌 기업까지, 마켓 체인저의 필수 전략   \n",
       "\n",
       "                                   저자   출판사 발행년도           ISBN 세트 ISBN 부가기호  \\\n",
       "100  헨리 클라우드, 존 타운센드 (지은이), 김진웅 (옮긴이)  좋은씨앗   18  9788958743019          NaN   \n",
       "101        로런스 인그래시아 (지은이), 안기순 (옮긴이)    부키   21  9788960518483          NaN   \n",
       "\n",
       "       권 주제분류번호  도서권수  대출건수        등록일자  \n",
       "100  NaN  234.9     1     1  2021-03-15  \n",
       "101  NaN  325.1     1     0  2021-03-15  "
      ]
     },
     "execution_count": 1,
     "metadata": {},
     "output_type": "execute_result"
    }
   ],
   "source": [
    "ns_book4.replace({'발행년도': {r'\\d\\d(\\d\\d)': r'\\1'}}, regex=True)[100:102]"
   ]
  },
  {
   "cell_type": "code",
   "execution_count": 22,
   "id": "2db150f0",
   "metadata": {
    "execution": {
     "iopub.execute_input": "2021-09-07T02:39:36.974430Z",
     "iopub.status.busy": "2021-09-07T02:39:36.973499Z",
     "iopub.status.idle": "2021-09-07T02:39:38.583163Z",
     "shell.execute_reply": "2021-09-07T02:39:38.583863Z"
    }
   },
   "outputs": [
    {
     "data": {
      "text/html": [
       "<div>\n",
       "<style scoped>\n",
       "    .dataframe tbody tr th:only-of-type {\n",
       "        vertical-align: middle;\n",
       "    }\n",
       "\n",
       "    .dataframe tbody tr th {\n",
       "        vertical-align: top;\n",
       "    }\n",
       "\n",
       "    .dataframe thead th {\n",
       "        text-align: right;\n",
       "    }\n",
       "</style>\n",
       "<table border=\"1\" class=\"dataframe\">\n",
       "  <thead>\n",
       "    <tr style=\"text-align: right;\">\n",
       "      <th></th>\n",
       "      <th>번호</th>\n",
       "      <th>도서명</th>\n",
       "      <th>저자</th>\n",
       "      <th>출판사</th>\n",
       "      <th>발행년도</th>\n",
       "      <th>ISBN</th>\n",
       "      <th>세트 ISBN</th>\n",
       "      <th>부가기호</th>\n",
       "      <th>권</th>\n",
       "      <th>주제분류번호</th>\n",
       "      <th>도서권수</th>\n",
       "      <th>대출건수</th>\n",
       "      <th>등록일자</th>\n",
       "    </tr>\n",
       "  </thead>\n",
       "  <tbody>\n",
       "    <tr>\n",
       "      <th>100</th>\n",
       "      <td>101</td>\n",
       "      <td>No라고 말할 줄 아는 남편과 아내 - 개정판</td>\n",
       "      <td>헨리 클라우드, 존 타운센드 (지은이), 김진웅 (옮긴이)</td>\n",
       "      <td>좋은씨앗</td>\n",
       "      <td>18</td>\n",
       "      <td>9788958743019</td>\n",
       "      <td></td>\n",
       "      <td>NaN</td>\n",
       "      <td>NaN</td>\n",
       "      <td>234.9</td>\n",
       "      <td>1</td>\n",
       "      <td>1</td>\n",
       "      <td>2021-03-15</td>\n",
       "    </tr>\n",
       "    <tr>\n",
       "      <th>101</th>\n",
       "      <td>102</td>\n",
       "      <td>D2C 레볼루션 - 스타트업부터 글로벌 기업까지, 마켓 체인저의 필수 전략</td>\n",
       "      <td>로런스 인그래시아 (지은이), 안기순 (옮긴이)</td>\n",
       "      <td>부키</td>\n",
       "      <td>21</td>\n",
       "      <td>9788960518483</td>\n",
       "      <td></td>\n",
       "      <td>NaN</td>\n",
       "      <td>NaN</td>\n",
       "      <td>325.1</td>\n",
       "      <td>1</td>\n",
       "      <td>0</td>\n",
       "      <td>2021-03-15</td>\n",
       "    </tr>\n",
       "  </tbody>\n",
       "</table>\n",
       "</div>"
      ],
      "text/plain": [
       "      번호                                        도서명  \\\n",
       "100  101                  No라고 말할 줄 아는 남편과 아내 - 개정판   \n",
       "101  102  D2C 레볼루션 - 스타트업부터 글로벌 기업까지, 마켓 체인저의 필수 전략   \n",
       "\n",
       "                                   저자   출판사 발행년도           ISBN 세트 ISBN 부가기호  \\\n",
       "100  헨리 클라우드, 존 타운센드 (지은이), 김진웅 (옮긴이)  좋은씨앗   18  9788958743019          NaN   \n",
       "101        로런스 인그래시아 (지은이), 안기순 (옮긴이)    부키   21  9788960518483          NaN   \n",
       "\n",
       "       권 주제분류번호  도서권수  대출건수        등록일자  \n",
       "100  NaN  234.9     1     1  2021-03-15  \n",
       "101  NaN  325.1     1     0  2021-03-15  "
      ]
     },
     "execution_count": 1,
     "metadata": {},
     "output_type": "execute_result"
    }
   ],
   "source": [
    "ns_book4.replace({'발행년도': {r'\\d{2}(\\d{2})': r'\\1'}}, regex=True)[100:102]"
   ]
  },
  {
   "cell_type": "code",
   "execution_count": 23,
   "id": "9a34a19f",
   "metadata": {
    "execution": {
     "iopub.execute_input": "2021-09-07T02:39:38.588146Z",
     "iopub.status.busy": "2021-09-07T02:39:38.587498Z",
     "iopub.status.idle": "2021-09-07T02:39:41.479122Z",
     "shell.execute_reply": "2021-09-07T02:39:41.478218Z"
    },
    "scrolled": true
   },
   "outputs": [
    {
     "data": {
      "text/html": [
       "<div>\n",
       "<style scoped>\n",
       "    .dataframe tbody tr th:only-of-type {\n",
       "        vertical-align: middle;\n",
       "    }\n",
       "\n",
       "    .dataframe tbody tr th {\n",
       "        vertical-align: top;\n",
       "    }\n",
       "\n",
       "    .dataframe thead th {\n",
       "        text-align: right;\n",
       "    }\n",
       "</style>\n",
       "<table border=\"1\" class=\"dataframe\">\n",
       "  <thead>\n",
       "    <tr style=\"text-align: right;\">\n",
       "      <th></th>\n",
       "      <th>번호</th>\n",
       "      <th>도서명</th>\n",
       "      <th>저자</th>\n",
       "      <th>출판사</th>\n",
       "      <th>발행년도</th>\n",
       "      <th>ISBN</th>\n",
       "      <th>세트 ISBN</th>\n",
       "      <th>부가기호</th>\n",
       "      <th>권</th>\n",
       "      <th>주제분류번호</th>\n",
       "      <th>도서권수</th>\n",
       "      <th>대출건수</th>\n",
       "      <th>등록일자</th>\n",
       "    </tr>\n",
       "  </thead>\n",
       "  <tbody>\n",
       "    <tr>\n",
       "      <th>100</th>\n",
       "      <td>101</td>\n",
       "      <td>No라고 말할 줄 아는 남편과 아내 - 개정판</td>\n",
       "      <td>헨리 클라우드, 존 타운센드, 김진웅</td>\n",
       "      <td>좋은씨앗</td>\n",
       "      <td>18</td>\n",
       "      <td>9788958743019</td>\n",
       "      <td></td>\n",
       "      <td>NaN</td>\n",
       "      <td>NaN</td>\n",
       "      <td>234.9</td>\n",
       "      <td>1</td>\n",
       "      <td>1</td>\n",
       "      <td>2021-03-15</td>\n",
       "    </tr>\n",
       "    <tr>\n",
       "      <th>101</th>\n",
       "      <td>102</td>\n",
       "      <td>D2C 레볼루션 - 스타트업부터 글로벌 기업까지, 마켓 체인저의 필수 전략</td>\n",
       "      <td>로런스 인그래시아, 안기순</td>\n",
       "      <td>부키</td>\n",
       "      <td>21</td>\n",
       "      <td>9788960518483</td>\n",
       "      <td></td>\n",
       "      <td>NaN</td>\n",
       "      <td>NaN</td>\n",
       "      <td>325.1</td>\n",
       "      <td>1</td>\n",
       "      <td>0</td>\n",
       "      <td>2021-03-15</td>\n",
       "    </tr>\n",
       "  </tbody>\n",
       "</table>\n",
       "</div>"
      ],
      "text/plain": [
       "      번호                                        도서명                    저자  \\\n",
       "100  101                  No라고 말할 줄 아는 남편과 아내 - 개정판  헨리 클라우드, 존 타운센드, 김진웅   \n",
       "101  102  D2C 레볼루션 - 스타트업부터 글로벌 기업까지, 마켓 체인저의 필수 전략        로런스 인그래시아, 안기순   \n",
       "\n",
       "      출판사 발행년도           ISBN 세트 ISBN 부가기호    권 주제분류번호  도서권수  대출건수        등록일자  \n",
       "100  좋은씨앗   18  9788958743019          NaN  NaN  234.9     1     1  2021-03-15  \n",
       "101    부키   21  9788960518483          NaN  NaN  325.1     1     0  2021-03-15  "
      ]
     },
     "execution_count": 1,
     "metadata": {},
     "output_type": "execute_result"
    }
   ],
   "source": [
    "ns_book4.replace({'저자': {r'(.*)\\s\\(지은이\\)(.*)\\s\\(옮긴이\\)': r'\\1\\2'}, \n",
    "                  '발행년도': {r'\\d{2}(\\d{2})': r'\\1'}}, regex=True)[100:102]"
   ]
  },
  {
   "cell_type": "markdown",
   "id": "29292f5a",
   "metadata": {},
   "source": [
    "## 잘못된 값 바꾸기"
   ]
  },
  {
   "cell_type": "code",
   "execution_count": 24,
   "id": "8aa3077b",
   "metadata": {
    "execution": {
     "iopub.execute_input": "2021-09-07T02:39:41.484107Z",
     "iopub.status.busy": "2021-09-07T02:39:41.483149Z",
     "iopub.status.idle": "2021-09-07T02:39:41.485302Z",
     "shell.execute_reply": "2021-09-07T02:39:41.486078Z"
    }
   },
   "outputs": [],
   "source": [
    "# 아래 코드는 오류 발생\n",
    "# ns_book4.astype({'발행년도': 'int32'})"
   ]
  },
  {
   "cell_type": "code",
   "execution_count": 25,
   "id": "958a5e5b",
   "metadata": {
    "execution": {
     "iopub.execute_input": "2021-09-07T02:39:41.505513Z",
     "iopub.status.busy": "2021-09-07T02:39:41.504665Z",
     "iopub.status.idle": "2021-09-07T02:39:41.662592Z",
     "shell.execute_reply": "2021-09-07T02:39:41.661806Z"
    }
   },
   "outputs": [
    {
     "data": {
      "text/plain": [
       "407"
      ]
     },
     "execution_count": 1,
     "metadata": {},
     "output_type": "execute_result"
    }
   ],
   "source": [
    "ns_book4['발행년도'].str.contains('1988').sum()"
   ]
  },
  {
   "cell_type": "code",
   "execution_count": 26,
   "id": "999b2e94",
   "metadata": {
    "execution": {
     "iopub.execute_input": "2021-09-07T02:39:41.680596Z",
     "iopub.status.busy": "2021-09-07T02:39:41.679942Z",
     "iopub.status.idle": "2021-09-07T02:39:41.833155Z",
     "shell.execute_reply": "2021-09-07T02:39:41.833854Z"
    }
   },
   "outputs": [
    {
     "name": "stdout",
     "output_type": "stream",
     "text": [
      "1777\n"
     ]
    },
    {
     "data": {
      "text/html": [
       "<div>\n",
       "<style scoped>\n",
       "    .dataframe tbody tr th:only-of-type {\n",
       "        vertical-align: middle;\n",
       "    }\n",
       "\n",
       "    .dataframe tbody tr th {\n",
       "        vertical-align: top;\n",
       "    }\n",
       "\n",
       "    .dataframe thead th {\n",
       "        text-align: right;\n",
       "    }\n",
       "</style>\n",
       "<table border=\"1\" class=\"dataframe\">\n",
       "  <thead>\n",
       "    <tr style=\"text-align: right;\">\n",
       "      <th></th>\n",
       "      <th>번호</th>\n",
       "      <th>도서명</th>\n",
       "      <th>저자</th>\n",
       "      <th>출판사</th>\n",
       "      <th>발행년도</th>\n",
       "      <th>ISBN</th>\n",
       "      <th>세트 ISBN</th>\n",
       "      <th>부가기호</th>\n",
       "      <th>권</th>\n",
       "      <th>주제분류번호</th>\n",
       "      <th>도서권수</th>\n",
       "      <th>대출건수</th>\n",
       "      <th>등록일자</th>\n",
       "    </tr>\n",
       "  </thead>\n",
       "  <tbody>\n",
       "    <tr>\n",
       "      <th>19138</th>\n",
       "      <td>19565</td>\n",
       "      <td>단국강토</td>\n",
       "      <td>홍태수 저</td>\n",
       "      <td>매일경제신문사</td>\n",
       "      <td>1988.</td>\n",
       "      <td>9788974420031</td>\n",
       "      <td></td>\n",
       "      <td>NaN</td>\n",
       "      <td>NaN</td>\n",
       "      <td>511.1</td>\n",
       "      <td>1</td>\n",
       "      <td>1</td>\n",
       "      <td>2019-12-19</td>\n",
       "    </tr>\n",
       "    <tr>\n",
       "      <th>19227</th>\n",
       "      <td>19736</td>\n",
       "      <td>삼성의 역사</td>\n",
       "      <td>송부웅 撰</td>\n",
       "      <td>삼양</td>\n",
       "      <td>단기4334[2001]</td>\n",
       "      <td>9788985464369</td>\n",
       "      <td></td>\n",
       "      <td>0</td>\n",
       "      <td>NaN</td>\n",
       "      <td>911.02</td>\n",
       "      <td>1</td>\n",
       "      <td>1</td>\n",
       "      <td>2019-12-06</td>\n",
       "    </tr>\n",
       "    <tr>\n",
       "      <th>26097</th>\n",
       "      <td>26812</td>\n",
       "      <td>배고픈 애벌레</td>\n",
       "      <td>에릭 칼 글·그림 ;이희재 옮김</td>\n",
       "      <td>더큰컴퍼니</td>\n",
       "      <td>[2019]</td>\n",
       "      <td>9788959514083</td>\n",
       "      <td></td>\n",
       "      <td>NaN</td>\n",
       "      <td>NaN</td>\n",
       "      <td>843</td>\n",
       "      <td>1</td>\n",
       "      <td>0</td>\n",
       "      <td>2019-08-12</td>\n",
       "    </tr>\n",
       "    <tr>\n",
       "      <th>29817</th>\n",
       "      <td>30586</td>\n",
       "      <td>(The) Sopranos sessions</td>\n",
       "      <td>Matt Zoller Seitz,$eAlan Sepinwall,$eLaura Lip...</td>\n",
       "      <td>Harry N Abrams Inc</td>\n",
       "      <td>2019.</td>\n",
       "      <td>9781419734946</td>\n",
       "      <td></td>\n",
       "      <td>NaN</td>\n",
       "      <td>NaN</td>\n",
       "      <td>326.76</td>\n",
       "      <td>1</td>\n",
       "      <td>0</td>\n",
       "      <td>2019-06-13</td>\n",
       "    </tr>\n",
       "    <tr>\n",
       "      <th>29940</th>\n",
       "      <td>30709</td>\n",
       "      <td>다음엔 너야</td>\n",
       "      <td>에른스트 얀들 글;노르만 융에 그림;박상순 옮김</td>\n",
       "      <td>비룡소</td>\n",
       "      <td>2018.</td>\n",
       "      <td>9788949110646</td>\n",
       "      <td>9788949110004</td>\n",
       "      <td>7</td>\n",
       "      <td>NaN</td>\n",
       "      <td>853</td>\n",
       "      <td>1</td>\n",
       "      <td>9</td>\n",
       "      <td>2019-06-04</td>\n",
       "    </tr>\n",
       "  </tbody>\n",
       "</table>\n",
       "</div>"
      ],
      "text/plain": [
       "          번호                       도서명  \\\n",
       "19138  19565                      단국강토   \n",
       "19227  19736                    삼성의 역사   \n",
       "26097  26812                  배고픈 애벌레    \n",
       "29817  30586  (The) Sopranos sessions    \n",
       "29940  30709                    다음엔 너야   \n",
       "\n",
       "                                                      저자                 출판사  \\\n",
       "19138                                              홍태수 저             매일경제신문사   \n",
       "19227                                              송부웅 撰                  삼양   \n",
       "26097                                  에릭 칼 글·그림 ;이희재 옮김               더큰컴퍼니   \n",
       "29817  Matt Zoller Seitz,$eAlan Sepinwall,$eLaura Lip...  Harry N Abrams Inc   \n",
       "29940                         에른스트 얀들 글;노르만 융에 그림;박상순 옮김                 비룡소   \n",
       "\n",
       "               발행년도           ISBN        세트 ISBN 부가기호    권  주제분류번호  도서권수  \\\n",
       "19138         1988.  9788974420031                 NaN  NaN   511.1     1   \n",
       "19227  단기4334[2001]  9788985464369                   0  NaN  911.02     1   \n",
       "26097        [2019]  9788959514083                 NaN  NaN     843     1   \n",
       "29817         2019.  9781419734946                 NaN  NaN  326.76     1   \n",
       "29940         2018.  9788949110646  9788949110004    7  NaN     853     1   \n",
       "\n",
       "       대출건수        등록일자  \n",
       "19138     1  2019-12-19  \n",
       "19227     1  2019-12-06  \n",
       "26097     0  2019-08-12  \n",
       "29817     0  2019-06-13  \n",
       "29940     9  2019-06-04  "
      ]
     },
     "execution_count": 1,
     "metadata": {},
     "output_type": "execute_result"
    }
   ],
   "source": [
    "invalid_number = ns_book4['발행년도'].str.contains('\\D', na=True)\n",
    "print(invalid_number.sum())\n",
    "ns_book4[invalid_number].head()"
   ]
  },
  {
   "cell_type": "code",
   "execution_count": 27,
   "id": "ad6b75ab",
   "metadata": {
    "execution": {
     "iopub.execute_input": "2021-09-07T02:39:41.839594Z",
     "iopub.status.busy": "2021-09-07T02:39:41.838637Z",
     "iopub.status.idle": "2021-09-07T02:39:43.083960Z",
     "shell.execute_reply": "2021-09-07T02:39:43.084684Z"
    },
    "scrolled": false
   },
   "outputs": [
    {
     "data": {
      "text/html": [
       "<div>\n",
       "<style scoped>\n",
       "    .dataframe tbody tr th:only-of-type {\n",
       "        vertical-align: middle;\n",
       "    }\n",
       "\n",
       "    .dataframe tbody tr th {\n",
       "        vertical-align: top;\n",
       "    }\n",
       "\n",
       "    .dataframe thead th {\n",
       "        text-align: right;\n",
       "    }\n",
       "</style>\n",
       "<table border=\"1\" class=\"dataframe\">\n",
       "  <thead>\n",
       "    <tr style=\"text-align: right;\">\n",
       "      <th></th>\n",
       "      <th>번호</th>\n",
       "      <th>도서명</th>\n",
       "      <th>저자</th>\n",
       "      <th>출판사</th>\n",
       "      <th>발행년도</th>\n",
       "      <th>ISBN</th>\n",
       "      <th>세트 ISBN</th>\n",
       "      <th>부가기호</th>\n",
       "      <th>권</th>\n",
       "      <th>주제분류번호</th>\n",
       "      <th>도서권수</th>\n",
       "      <th>대출건수</th>\n",
       "      <th>등록일자</th>\n",
       "    </tr>\n",
       "  </thead>\n",
       "  <tbody>\n",
       "    <tr>\n",
       "      <th>19138</th>\n",
       "      <td>19565</td>\n",
       "      <td>단국강토</td>\n",
       "      <td>홍태수 저</td>\n",
       "      <td>매일경제신문사</td>\n",
       "      <td>1988</td>\n",
       "      <td>9788974420031</td>\n",
       "      <td></td>\n",
       "      <td>NaN</td>\n",
       "      <td>NaN</td>\n",
       "      <td>511.1</td>\n",
       "      <td>1</td>\n",
       "      <td>1</td>\n",
       "      <td>2019-12-19</td>\n",
       "    </tr>\n",
       "    <tr>\n",
       "      <th>19227</th>\n",
       "      <td>19736</td>\n",
       "      <td>삼성의 역사</td>\n",
       "      <td>송부웅 撰</td>\n",
       "      <td>삼양</td>\n",
       "      <td>2001</td>\n",
       "      <td>9788985464369</td>\n",
       "      <td></td>\n",
       "      <td>0</td>\n",
       "      <td>NaN</td>\n",
       "      <td>911.02</td>\n",
       "      <td>1</td>\n",
       "      <td>1</td>\n",
       "      <td>2019-12-06</td>\n",
       "    </tr>\n",
       "    <tr>\n",
       "      <th>26097</th>\n",
       "      <td>26812</td>\n",
       "      <td>배고픈 애벌레</td>\n",
       "      <td>에릭 칼 글·그림 ;이희재 옮김</td>\n",
       "      <td>더큰컴퍼니</td>\n",
       "      <td>2019</td>\n",
       "      <td>9788959514083</td>\n",
       "      <td></td>\n",
       "      <td>NaN</td>\n",
       "      <td>NaN</td>\n",
       "      <td>843</td>\n",
       "      <td>1</td>\n",
       "      <td>0</td>\n",
       "      <td>2019-08-12</td>\n",
       "    </tr>\n",
       "    <tr>\n",
       "      <th>29817</th>\n",
       "      <td>30586</td>\n",
       "      <td>(The) Sopranos sessions</td>\n",
       "      <td>Matt Zoller Seitz,$eAlan Sepinwall,$eLaura Lip...</td>\n",
       "      <td>Harry N Abrams Inc</td>\n",
       "      <td>2019</td>\n",
       "      <td>9781419734946</td>\n",
       "      <td></td>\n",
       "      <td>NaN</td>\n",
       "      <td>NaN</td>\n",
       "      <td>326.76</td>\n",
       "      <td>1</td>\n",
       "      <td>0</td>\n",
       "      <td>2019-06-13</td>\n",
       "    </tr>\n",
       "    <tr>\n",
       "      <th>29940</th>\n",
       "      <td>30709</td>\n",
       "      <td>다음엔 너야</td>\n",
       "      <td>에른스트 얀들 글;노르만 융에 그림;박상순 옮김</td>\n",
       "      <td>비룡소</td>\n",
       "      <td>2018</td>\n",
       "      <td>9788949110646</td>\n",
       "      <td>9788949110004</td>\n",
       "      <td>7</td>\n",
       "      <td>NaN</td>\n",
       "      <td>853</td>\n",
       "      <td>1</td>\n",
       "      <td>9</td>\n",
       "      <td>2019-06-04</td>\n",
       "    </tr>\n",
       "  </tbody>\n",
       "</table>\n",
       "</div>"
      ],
      "text/plain": [
       "          번호                       도서명  \\\n",
       "19138  19565                      단국강토   \n",
       "19227  19736                    삼성의 역사   \n",
       "26097  26812                  배고픈 애벌레    \n",
       "29817  30586  (The) Sopranos sessions    \n",
       "29940  30709                    다음엔 너야   \n",
       "\n",
       "                                                      저자                 출판사  \\\n",
       "19138                                              홍태수 저             매일경제신문사   \n",
       "19227                                              송부웅 撰                  삼양   \n",
       "26097                                  에릭 칼 글·그림 ;이희재 옮김               더큰컴퍼니   \n",
       "29817  Matt Zoller Seitz,$eAlan Sepinwall,$eLaura Lip...  Harry N Abrams Inc   \n",
       "29940                         에른스트 얀들 글;노르만 융에 그림;박상순 옮김                 비룡소   \n",
       "\n",
       "       발행년도           ISBN        세트 ISBN 부가기호    권  주제분류번호  도서권수  대출건수  \\\n",
       "19138  1988  9788974420031                 NaN  NaN   511.1     1     1   \n",
       "19227  2001  9788985464369                   0  NaN  911.02     1     1   \n",
       "26097  2019  9788959514083                 NaN  NaN     843     1     0   \n",
       "29817  2019  9781419734946                 NaN  NaN  326.76     1     0   \n",
       "29940  2018  9788949110646  9788949110004    7  NaN     853     1     9   \n",
       "\n",
       "             등록일자  \n",
       "19138  2019-12-19  \n",
       "19227  2019-12-06  \n",
       "26097  2019-08-12  \n",
       "29817  2019-06-13  \n",
       "29940  2019-06-04  "
      ]
     },
     "execution_count": 1,
     "metadata": {},
     "output_type": "execute_result"
    }
   ],
   "source": [
    "ns_book5 = ns_book4.replace({'발행년도':'.*(\\d{4}).*'}, r'\\1', regex=True)\n",
    "ns_book5[invalid_number].head()"
   ]
  },
  {
   "cell_type": "code",
   "execution_count": 28,
   "id": "e9283b20",
   "metadata": {
    "execution": {
     "iopub.execute_input": "2021-09-07T02:39:43.107376Z",
     "iopub.status.busy": "2021-09-07T02:39:43.106530Z",
     "iopub.status.idle": "2021-09-07T02:39:43.250038Z",
     "shell.execute_reply": "2021-09-07T02:39:43.250771Z"
    },
    "scrolled": true
   },
   "outputs": [
    {
     "name": "stdout",
     "output_type": "stream",
     "text": [
      "67\n"
     ]
    },
    {
     "data": {
      "text/html": [
       "<div>\n",
       "<style scoped>\n",
       "    .dataframe tbody tr th:only-of-type {\n",
       "        vertical-align: middle;\n",
       "    }\n",
       "\n",
       "    .dataframe tbody tr th {\n",
       "        vertical-align: top;\n",
       "    }\n",
       "\n",
       "    .dataframe thead th {\n",
       "        text-align: right;\n",
       "    }\n",
       "</style>\n",
       "<table border=\"1\" class=\"dataframe\">\n",
       "  <thead>\n",
       "    <tr style=\"text-align: right;\">\n",
       "      <th></th>\n",
       "      <th>번호</th>\n",
       "      <th>도서명</th>\n",
       "      <th>저자</th>\n",
       "      <th>출판사</th>\n",
       "      <th>발행년도</th>\n",
       "      <th>ISBN</th>\n",
       "      <th>세트 ISBN</th>\n",
       "      <th>부가기호</th>\n",
       "      <th>권</th>\n",
       "      <th>주제분류번호</th>\n",
       "      <th>도서권수</th>\n",
       "      <th>대출건수</th>\n",
       "      <th>등록일자</th>\n",
       "    </tr>\n",
       "  </thead>\n",
       "  <tbody>\n",
       "    <tr>\n",
       "      <th>30838</th>\n",
       "      <td>31616</td>\n",
       "      <td>본격 한중일 세계사 5</td>\n",
       "      <td>굽시니스트 지음</td>\n",
       "      <td>위즈덤하우스</td>\n",
       "      <td>NaN</td>\n",
       "      <td>9791190065092</td>\n",
       "      <td></td>\n",
       "      <td>NaN</td>\n",
       "      <td>NaN</td>\n",
       "      <td>NaN</td>\n",
       "      <td>0</td>\n",
       "      <td>0</td>\n",
       "      <td>2019-05-28</td>\n",
       "    </tr>\n",
       "    <tr>\n",
       "      <th>39130</th>\n",
       "      <td>40141</td>\n",
       "      <td>정책금융의 현황과 발전과제</td>\n",
       "      <td>정책금융연구회</td>\n",
       "      <td>한국산업은행</td>\n",
       "      <td>NaN</td>\n",
       "      <td>9788992784108</td>\n",
       "      <td></td>\n",
       "      <td>NaN</td>\n",
       "      <td>NaN</td>\n",
       "      <td>327.1</td>\n",
       "      <td>1</td>\n",
       "      <td>0</td>\n",
       "      <td>2019-01-22</td>\n",
       "    </tr>\n",
       "    <tr>\n",
       "      <th>39256</th>\n",
       "      <td>40268</td>\n",
       "      <td>서울지역 유적 발굴조사 총서 3</td>\n",
       "      <td>서울역사박물관</td>\n",
       "      <td>서울역사박물관</td>\n",
       "      <td>NaN</td>\n",
       "      <td>9791186324714</td>\n",
       "      <td>9791186324431</td>\n",
       "      <td>NaN</td>\n",
       "      <td>NaN</td>\n",
       "      <td>NaN</td>\n",
       "      <td>0</td>\n",
       "      <td>0</td>\n",
       "      <td>2019-01-22</td>\n",
       "    </tr>\n",
       "    <tr>\n",
       "      <th>76836</th>\n",
       "      <td>81202</td>\n",
       "      <td>흰머리 큰줄기</td>\n",
       "      <td>한호진 지음</td>\n",
       "      <td>秀文出版社</td>\n",
       "      <td>[발행년불명]</td>\n",
       "      <td>9788973010769</td>\n",
       "      <td></td>\n",
       "      <td>0</td>\n",
       "      <td>NaN</td>\n",
       "      <td>699.1</td>\n",
       "      <td>1</td>\n",
       "      <td>1</td>\n",
       "      <td>2016-11-10</td>\n",
       "    </tr>\n",
       "    <tr>\n",
       "      <th>150543</th>\n",
       "      <td>160436</td>\n",
       "      <td>(속) 경제학사</td>\n",
       "      <td>박장환 지음</td>\n",
       "      <td>NaN</td>\n",
       "      <td>[20--]</td>\n",
       "      <td>9788994339207</td>\n",
       "      <td></td>\n",
       "      <td>1</td>\n",
       "      <td>NaN</td>\n",
       "      <td>320.9</td>\n",
       "      <td>1</td>\n",
       "      <td>2</td>\n",
       "      <td>2012-11-19</td>\n",
       "    </tr>\n",
       "  </tbody>\n",
       "</table>\n",
       "</div>"
      ],
      "text/plain": [
       "            번호                도서명        저자      출판사     발행년도           ISBN  \\\n",
       "30838    31616       본격 한중일 세계사 5  굽시니스트 지음   위즈덤하우스      NaN  9791190065092   \n",
       "39130    40141     정책금융의 현황과 발전과제   정책금융연구회   한국산업은행      NaN  9788992784108   \n",
       "39256    40268  서울지역 유적 발굴조사 총서 3   서울역사박물관  서울역사박물관      NaN  9791186324714   \n",
       "76836    81202            흰머리 큰줄기    한호진 지음    秀文出版社  [발행년불명]  9788973010769   \n",
       "150543  160436          (속) 경제학사     박장환 지음      NaN   [20--]  9788994339207   \n",
       "\n",
       "              세트 ISBN 부가기호    권 주제분류번호  도서권수  대출건수        등록일자  \n",
       "30838                  NaN  NaN    NaN     0     0  2019-05-28  \n",
       "39130                  NaN  NaN  327.1     1     0  2019-01-22  \n",
       "39256   9791186324431  NaN  NaN    NaN     0     0  2019-01-22  \n",
       "76836                    0  NaN  699.1     1     1  2016-11-10  \n",
       "150543                   1  NaN  320.9     1     2  2012-11-19  "
      ]
     },
     "execution_count": 1,
     "metadata": {},
     "output_type": "execute_result"
    }
   ],
   "source": [
    "unkown_year = ns_book5['발행년도'].str.contains('\\D', na=True)\n",
    "print(unkown_year.sum())\n",
    "ns_book5[unkown_year].head()"
   ]
  },
  {
   "cell_type": "code",
   "execution_count": 29,
   "id": "e4cc5648",
   "metadata": {
    "execution": {
     "iopub.execute_input": "2021-09-07T02:39:43.256263Z",
     "iopub.status.busy": "2021-09-07T02:39:43.255421Z",
     "iopub.status.idle": "2021-09-07T02:39:43.367588Z",
     "shell.execute_reply": "2021-09-07T02:39:43.368321Z"
    }
   },
   "outputs": [],
   "source": [
    "ns_book5.loc[unkown_year, '발행년도'] = '-1'\n",
    "ns_book5 = ns_book5.astype({'발행년도': 'int32'})"
   ]
  },
  {
   "cell_type": "code",
   "execution_count": 30,
   "id": "f9e743e4",
   "metadata": {
    "execution": {
     "iopub.execute_input": "2021-09-07T02:39:43.373112Z",
     "iopub.status.busy": "2021-09-07T02:39:43.372279Z",
     "iopub.status.idle": "2021-09-07T02:39:43.382083Z",
     "shell.execute_reply": "2021-09-07T02:39:43.382924Z"
    }
   },
   "outputs": [
    {
     "data": {
      "text/plain": [
       "131"
      ]
     },
     "execution_count": 1,
     "metadata": {},
     "output_type": "execute_result"
    }
   ],
   "source": [
    "ns_book5['발행년도'].gt(4000).sum()"
   ]
  },
  {
   "cell_type": "code",
   "execution_count": 31,
   "id": "cdc0a18e",
   "metadata": {
    "execution": {
     "iopub.execute_input": "2021-09-07T02:39:43.388665Z",
     "iopub.status.busy": "2021-09-07T02:39:43.388012Z",
     "iopub.status.idle": "2021-09-07T02:39:43.393686Z",
     "shell.execute_reply": "2021-09-07T02:39:43.394520Z"
    }
   },
   "outputs": [],
   "source": [
    "dangun_yy_rows = ns_book5['발행년도'] > 4000\n",
    "ns_book5.loc[dangun_yy_rows, '발행년도'] = ns_book5.loc[dangun_yy_rows, '발행년도'] - 2333"
   ]
  },
  {
   "cell_type": "code",
   "execution_count": 32,
   "id": "3d7ac5a2",
   "metadata": {
    "execution": {
     "iopub.execute_input": "2021-09-07T02:39:43.399474Z",
     "iopub.status.busy": "2021-09-07T02:39:43.398671Z",
     "iopub.status.idle": "2021-09-07T02:39:43.413161Z",
     "shell.execute_reply": "2021-09-07T02:39:43.413845Z"
    }
   },
   "outputs": [
    {
     "name": "stdout",
     "output_type": "stream",
     "text": [
      "13\n"
     ]
    },
    {
     "data": {
      "text/html": [
       "<div>\n",
       "<style scoped>\n",
       "    .dataframe tbody tr th:only-of-type {\n",
       "        vertical-align: middle;\n",
       "    }\n",
       "\n",
       "    .dataframe tbody tr th {\n",
       "        vertical-align: top;\n",
       "    }\n",
       "\n",
       "    .dataframe thead th {\n",
       "        text-align: right;\n",
       "    }\n",
       "</style>\n",
       "<table border=\"1\" class=\"dataframe\">\n",
       "  <thead>\n",
       "    <tr style=\"text-align: right;\">\n",
       "      <th></th>\n",
       "      <th>번호</th>\n",
       "      <th>도서명</th>\n",
       "      <th>저자</th>\n",
       "      <th>출판사</th>\n",
       "      <th>발행년도</th>\n",
       "      <th>ISBN</th>\n",
       "      <th>세트 ISBN</th>\n",
       "      <th>부가기호</th>\n",
       "      <th>권</th>\n",
       "      <th>주제분류번호</th>\n",
       "      <th>도서권수</th>\n",
       "      <th>대출건수</th>\n",
       "      <th>등록일자</th>\n",
       "    </tr>\n",
       "  </thead>\n",
       "  <tbody>\n",
       "    <tr>\n",
       "      <th>222858</th>\n",
       "      <td>234268</td>\n",
       "      <td>Modern art</td>\n",
       "      <td>[computer file]</td>\n",
       "      <td>GROLIER</td>\n",
       "      <td>7611</td>\n",
       "      <td>9780717233243</td>\n",
       "      <td></td>\n",
       "      <td>NaN</td>\n",
       "      <td>NaN</td>\n",
       "      <td>609.205</td>\n",
       "      <td>1</td>\n",
       "      <td>1</td>\n",
       "      <td>2009-05-07</td>\n",
       "    </tr>\n",
       "    <tr>\n",
       "      <th>270269</th>\n",
       "      <td>282852</td>\n",
       "      <td>현대 영어학=Linguistic theory in modern english</td>\n",
       "      <td>이재영</td>\n",
       "      <td>열림기획</td>\n",
       "      <td>7634</td>\n",
       "      <td>9788986705072</td>\n",
       "      <td></td>\n",
       "      <td>1</td>\n",
       "      <td>NaN</td>\n",
       "      <td>740.1</td>\n",
       "      <td>1</td>\n",
       "      <td>6</td>\n",
       "      <td>2007-04-14</td>\n",
       "    </tr>\n",
       "  </tbody>\n",
       "</table>\n",
       "</div>"
      ],
      "text/plain": [
       "            번호                                         도서명               저자  \\\n",
       "222858  234268                                  Modern art  [computer file]   \n",
       "270269  282852  현대 영어학=Linguistic theory in modern english              이재영   \n",
       "\n",
       "            출판사  발행년도           ISBN 세트 ISBN 부가기호    권   주제분류번호  도서권수  대출건수  \\\n",
       "222858  GROLIER  7611  9780717233243          NaN  NaN  609.205     1     1   \n",
       "270269     열림기획  7634  9788986705072            1  NaN    740.1     1     6   \n",
       "\n",
       "              등록일자  \n",
       "222858  2009-05-07  \n",
       "270269  2007-04-14  "
      ]
     },
     "execution_count": 1,
     "metadata": {},
     "output_type": "execute_result"
    }
   ],
   "source": [
    "dangun_year = ns_book5['발행년도'].gt(4000)\n",
    "print(dangun_year.sum())\n",
    "ns_book5[dangun_year].head(2)"
   ]
  },
  {
   "cell_type": "code",
   "execution_count": 33,
   "id": "e6a8db18",
   "metadata": {
    "execution": {
     "iopub.execute_input": "2021-09-07T02:39:43.417223Z",
     "iopub.status.busy": "2021-09-07T02:39:43.416588Z",
     "iopub.status.idle": "2021-09-07T02:39:43.420025Z",
     "shell.execute_reply": "2021-09-07T02:39:43.420836Z"
    }
   },
   "outputs": [],
   "source": [
    "ns_book5.loc[dangun_year, '발행년도'] = -1"
   ]
  },
  {
   "cell_type": "code",
   "execution_count": 34,
   "id": "a77e39b3",
   "metadata": {
    "execution": {
     "iopub.execute_input": "2021-09-07T02:39:43.425487Z",
     "iopub.status.busy": "2021-09-07T02:39:43.424792Z",
     "iopub.status.idle": "2021-09-07T02:39:43.443321Z",
     "shell.execute_reply": "2021-09-07T02:39:43.444017Z"
    },
    "scrolled": true
   },
   "outputs": [
    {
     "data": {
      "text/html": [
       "<div>\n",
       "<style scoped>\n",
       "    .dataframe tbody tr th:only-of-type {\n",
       "        vertical-align: middle;\n",
       "    }\n",
       "\n",
       "    .dataframe tbody tr th {\n",
       "        vertical-align: top;\n",
       "    }\n",
       "\n",
       "    .dataframe thead th {\n",
       "        text-align: right;\n",
       "    }\n",
       "</style>\n",
       "<table border=\"1\" class=\"dataframe\">\n",
       "  <thead>\n",
       "    <tr style=\"text-align: right;\">\n",
       "      <th></th>\n",
       "      <th>번호</th>\n",
       "      <th>도서명</th>\n",
       "      <th>저자</th>\n",
       "      <th>출판사</th>\n",
       "      <th>발행년도</th>\n",
       "      <th>ISBN</th>\n",
       "      <th>세트 ISBN</th>\n",
       "      <th>부가기호</th>\n",
       "      <th>권</th>\n",
       "      <th>주제분류번호</th>\n",
       "      <th>도서권수</th>\n",
       "      <th>대출건수</th>\n",
       "      <th>등록일자</th>\n",
       "    </tr>\n",
       "  </thead>\n",
       "  <tbody>\n",
       "    <tr>\n",
       "      <th>61149</th>\n",
       "      <td>64093</td>\n",
       "      <td>고흐 씨, 시 읽어 줄까요 :내 마음을 알아주는 시와 그림의 만남</td>\n",
       "      <td>이운진 지음</td>\n",
       "      <td>사계절</td>\n",
       "      <td>176</td>\n",
       "      <td>9788958284277</td>\n",
       "      <td></td>\n",
       "      <td>0</td>\n",
       "      <td>NaN</td>\n",
       "      <td>811.7</td>\n",
       "      <td>1</td>\n",
       "      <td>6</td>\n",
       "      <td>2017-10-27</td>\n",
       "    </tr>\n",
       "    <tr>\n",
       "      <th>70566</th>\n",
       "      <td>74347</td>\n",
       "      <td>정신 병리학의 문제들</td>\n",
       "      <td>지은이: 지그문트 프로이트 ;옮긴이: 황보석</td>\n",
       "      <td>열린책들</td>\n",
       "      <td>151</td>\n",
       "      <td>9788932905181</td>\n",
       "      <td>9788932905082</td>\n",
       "      <td>9</td>\n",
       "      <td>10</td>\n",
       "      <td>185.5</td>\n",
       "      <td>1</td>\n",
       "      <td>4</td>\n",
       "      <td>2017-04-26</td>\n",
       "    </tr>\n",
       "    <tr>\n",
       "      <th>79550</th>\n",
       "      <td>84164</td>\n",
       "      <td>(최근 7년간) 중요 민법판례 :[2009년 1월~2016년 6월 중요 판례]</td>\n",
       "      <td>이광섭 편저</td>\n",
       "      <td>법학사</td>\n",
       "      <td>163</td>\n",
       "      <td>9788962898651</td>\n",
       "      <td></td>\n",
       "      <td>9</td>\n",
       "      <td>NaN</td>\n",
       "      <td>365</td>\n",
       "      <td>1</td>\n",
       "      <td>14</td>\n",
       "      <td>2016-09-27</td>\n",
       "    </tr>\n",
       "    <tr>\n",
       "      <th>147950</th>\n",
       "      <td>157759</td>\n",
       "      <td>(한·중·일) 밥상 문화 :대표음식으로 본 3국 문화비교</td>\n",
       "      <td>김경은 지음</td>\n",
       "      <td>이가서</td>\n",
       "      <td>132</td>\n",
       "      <td>9788958643012</td>\n",
       "      <td></td>\n",
       "      <td>0</td>\n",
       "      <td>NaN</td>\n",
       "      <td>381.75</td>\n",
       "      <td>1</td>\n",
       "      <td>30</td>\n",
       "      <td>2013-02-19</td>\n",
       "    </tr>\n",
       "    <tr>\n",
       "      <th>194576</th>\n",
       "      <td>205407</td>\n",
       "      <td>책으로 뒤덮인 집의 비밀</td>\n",
       "      <td>N.E. 보드 지음 ;피터 퍼거슨 그림 ;김지현 옮김</td>\n",
       "      <td>개암나무</td>\n",
       "      <td>1015</td>\n",
       "      <td>9788992844413</td>\n",
       "      <td></td>\n",
       "      <td>7</td>\n",
       "      <td>NaN</td>\n",
       "      <td>843</td>\n",
       "      <td>1</td>\n",
       "      <td>15</td>\n",
       "      <td>2010-08-18</td>\n",
       "    </tr>\n",
       "    <tr>\n",
       "      <th>287252</th>\n",
       "      <td>300283</td>\n",
       "      <td>(밝혀질)우리歷史</td>\n",
       "      <td>吳在城 著</td>\n",
       "      <td>黎民族史硏究會</td>\n",
       "      <td>1607</td>\n",
       "      <td>9788986892130</td>\n",
       "      <td></td>\n",
       "      <td>0</td>\n",
       "      <td>NaN</td>\n",
       "      <td>911</td>\n",
       "      <td>1</td>\n",
       "      <td>5</td>\n",
       "      <td>2006-07-06</td>\n",
       "    </tr>\n",
       "  </tbody>\n",
       "</table>\n",
       "</div>"
      ],
      "text/plain": [
       "            번호                                           도서명  \\\n",
       "61149    64093         고흐 씨, 시 읽어 줄까요 :내 마음을 알아주는 시와 그림의 만남    \n",
       "70566    74347                                  정신 병리학의 문제들    \n",
       "79550    84164  (최근 7년간) 중요 민법판례 :[2009년 1월~2016년 6월 중요 판례]    \n",
       "147950  157759              (한·중·일) 밥상 문화 :대표음식으로 본 3국 문화비교    \n",
       "194576  205407                                책으로 뒤덮인 집의 비밀    \n",
       "287252  300283                                     (밝혀질)우리歷史   \n",
       "\n",
       "                                   저자      출판사  발행년도           ISBN  \\\n",
       "61149                          이운진 지음      사계절   176  9788958284277   \n",
       "70566        지은이: 지그문트 프로이트 ;옮긴이: 황보석     열린책들   151  9788932905181   \n",
       "79550                          이광섭 편저      법학사   163  9788962898651   \n",
       "147950                         김경은 지음      이가서   132  9788958643012   \n",
       "194576  N.E. 보드 지음 ;피터 퍼거슨 그림 ;김지현 옮김     개암나무  1015  9788992844413   \n",
       "287252                          吳在城 著  黎民族史硏究會  1607  9788986892130   \n",
       "\n",
       "              세트 ISBN 부가기호    권  주제분류번호  도서권수  대출건수        등록일자  \n",
       "61149                    0  NaN   811.7     1     6  2017-10-27  \n",
       "70566   9788932905082    9   10   185.5     1     4  2017-04-26  \n",
       "79550                    9  NaN     365     1    14  2016-09-27  \n",
       "147950                   0  NaN  381.75     1    30  2013-02-19  \n",
       "194576                   7  NaN     843     1    15  2010-08-18  \n",
       "287252                   0  NaN     911     1     5  2006-07-06  "
      ]
     },
     "execution_count": 1,
     "metadata": {},
     "output_type": "execute_result"
    }
   ],
   "source": [
    "old_books = ns_book5['발행년도'].gt(0) & ns_book5['발행년도'].le(1900)\n",
    "ns_book5[old_books]"
   ]
  },
  {
   "cell_type": "code",
   "execution_count": 35,
   "id": "fb6158de",
   "metadata": {
    "execution": {
     "iopub.execute_input": "2021-09-07T02:39:43.448230Z",
     "iopub.status.busy": "2021-09-07T02:39:43.447421Z",
     "iopub.status.idle": "2021-09-07T02:39:43.450117Z",
     "shell.execute_reply": "2021-09-07T02:39:43.450934Z"
    }
   },
   "outputs": [],
   "source": [
    "ns_book5.loc[old_books, '발행년도'] = -1"
   ]
  },
  {
   "cell_type": "code",
   "execution_count": 36,
   "id": "5678b8ce",
   "metadata": {
    "execution": {
     "iopub.execute_input": "2021-09-07T02:39:43.455585Z",
     "iopub.status.busy": "2021-09-07T02:39:43.454951Z",
     "iopub.status.idle": "2021-09-07T02:39:43.460030Z",
     "shell.execute_reply": "2021-09-07T02:39:43.459411Z"
    }
   },
   "outputs": [
    {
     "data": {
      "text/plain": [
       "86"
      ]
     },
     "execution_count": 1,
     "metadata": {},
     "output_type": "execute_result"
    }
   ],
   "source": [
    "ns_book5['발행년도'].eq(-1).sum()"
   ]
  },
  {
   "cell_type": "markdown",
   "id": "04667baf",
   "metadata": {},
   "source": [
    "## 누락된 정보 채우기"
   ]
  },
  {
   "cell_type": "code",
   "execution_count": 37,
   "id": "c9825005",
   "metadata": {
    "execution": {
     "iopub.execute_input": "2021-09-07T02:39:43.499156Z",
     "iopub.status.busy": "2021-09-07T02:39:43.498002Z",
     "iopub.status.idle": "2021-09-07T02:39:43.527267Z",
     "shell.execute_reply": "2021-09-07T02:39:43.526533Z"
    }
   },
   "outputs": [
    {
     "name": "stdout",
     "output_type": "stream",
     "text": [
      "5268\n"
     ]
    },
    {
     "data": {
      "text/html": [
       "<div>\n",
       "<style scoped>\n",
       "    .dataframe tbody tr th:only-of-type {\n",
       "        vertical-align: middle;\n",
       "    }\n",
       "\n",
       "    .dataframe tbody tr th {\n",
       "        vertical-align: top;\n",
       "    }\n",
       "\n",
       "    .dataframe thead th {\n",
       "        text-align: right;\n",
       "    }\n",
       "</style>\n",
       "<table border=\"1\" class=\"dataframe\">\n",
       "  <thead>\n",
       "    <tr style=\"text-align: right;\">\n",
       "      <th></th>\n",
       "      <th>번호</th>\n",
       "      <th>도서명</th>\n",
       "      <th>저자</th>\n",
       "      <th>출판사</th>\n",
       "      <th>발행년도</th>\n",
       "      <th>ISBN</th>\n",
       "      <th>세트 ISBN</th>\n",
       "      <th>부가기호</th>\n",
       "      <th>권</th>\n",
       "      <th>주제분류번호</th>\n",
       "      <th>도서권수</th>\n",
       "      <th>대출건수</th>\n",
       "      <th>등록일자</th>\n",
       "    </tr>\n",
       "  </thead>\n",
       "  <tbody>\n",
       "    <tr>\n",
       "      <th>78</th>\n",
       "      <td>79</td>\n",
       "      <td>아산 정주영 레거시</td>\n",
       "      <td>김화진</td>\n",
       "      <td>NaN</td>\n",
       "      <td>2021</td>\n",
       "      <td>9788952129529</td>\n",
       "      <td></td>\n",
       "      <td>NaN</td>\n",
       "      <td>NaN</td>\n",
       "      <td>325</td>\n",
       "      <td>1</td>\n",
       "      <td>1</td>\n",
       "      <td>2021-03-15</td>\n",
       "    </tr>\n",
       "    <tr>\n",
       "      <th>265</th>\n",
       "      <td>278</td>\n",
       "      <td>골목의 시간을 그리다</td>\n",
       "      <td>정명섭.김효찬 지음</td>\n",
       "      <td>NaN</td>\n",
       "      <td>2021</td>\n",
       "      <td>9791191266054</td>\n",
       "      <td></td>\n",
       "      <td>NaN</td>\n",
       "      <td>NaN</td>\n",
       "      <td>NaN</td>\n",
       "      <td>1</td>\n",
       "      <td>0</td>\n",
       "      <td>2021-03-12</td>\n",
       "    </tr>\n",
       "  </tbody>\n",
       "</table>\n",
       "</div>"
      ],
      "text/plain": [
       "      번호          도서명          저자  출판사  발행년도           ISBN 세트 ISBN 부가기호    권  \\\n",
       "78    79   아산 정주영 레거시         김화진  NaN  2021  9788952129529          NaN  NaN   \n",
       "265  278  골목의 시간을 그리다  정명섭.김효찬 지음  NaN  2021  9791191266054          NaN  NaN   \n",
       "\n",
       "    주제분류번호  도서권수  대출건수        등록일자  \n",
       "78     325     1     1  2021-03-15  \n",
       "265    NaN     1     0  2021-03-12  "
      ]
     },
     "execution_count": 1,
     "metadata": {},
     "output_type": "execute_result"
    }
   ],
   "source": [
    "na_rows = ns_book5['도서명'].isna() | ns_book5['저자'].isna() \\\n",
    "          | ns_book5['출판사'].isna() | ns_book5['발행년도'].eq(-1)\n",
    "print(na_rows.sum())\n",
    "ns_book5[na_rows].head(2)"
   ]
  },
  {
   "cell_type": "code",
   "execution_count": 38,
   "id": "3d15c923",
   "metadata": {
    "execution": {
     "iopub.execute_input": "2021-09-07T02:39:43.532071Z",
     "iopub.status.busy": "2021-09-07T02:39:43.531263Z",
     "iopub.status.idle": "2021-09-07T02:39:43.553803Z",
     "shell.execute_reply": "2021-09-07T02:39:43.554125Z"
    }
   },
   "outputs": [],
   "source": [
    "import requests\n",
    "from bs4 import BeautifulSoup"
   ]
  },
  {
   "cell_type": "code",
   "execution_count": 39,
   "id": "be90aebd",
   "metadata": {
    "execution": {
     "iopub.execute_input": "2021-09-07T02:39:43.557517Z",
     "iopub.status.busy": "2021-09-07T02:39:43.556941Z",
     "iopub.status.idle": "2021-09-07T02:39:43.559507Z",
     "shell.execute_reply": "2021-09-07T02:39:43.558905Z"
    }
   },
   "outputs": [],
   "source": [
    "def get_book_title(isbn):\n",
    "    # 교보문고 도서 상세 페이지 URL\n",
    "    url = 'https://www.kyobobook.co.kr/product/detailViewKor.laf?barcode={}'\n",
    "    # URL에 ISBN을 넣어 HTML 가져옵니다.\n",
    "    r = requests.get(url.format(isbn))\n",
    "    soup = BeautifulSoup(r.text, 'html.parser')   # HTML 파싱\n",
    "    # title 헤더 아래 strong 태그의 텍스트를 가져옵니다.\n",
    "    title = soup.find('h1', attrs={'class':'title'}) \\\n",
    "            .find('strong') \\\n",
    "            .get_text()\n",
    "    return title"
   ]
  },
  {
   "cell_type": "code",
   "execution_count": 40,
   "id": "78ebe116",
   "metadata": {
    "execution": {
     "iopub.execute_input": "2021-09-07T02:39:43.567024Z",
     "iopub.status.busy": "2021-09-07T02:39:43.566398Z",
     "iopub.status.idle": "2021-09-07T02:39:44.233268Z",
     "shell.execute_reply": "2021-09-07T02:39:44.233991Z"
    }
   },
   "outputs": [
    {
     "data": {
      "text/plain": [
       "'\\r\\n\\t\\t\\t\\t\\t\\r\\n\\t\\t\\t\\t\\t\\t\\r\\n\\t\\t\\t\\t\\t\\t\\r\\n\\t\\t\\t\\t\\t\\t골목의 시간을 그리다\\r\\n\\t\\t\\t\\t\\t\\r\\n\\t\\t\\t\\t'"
      ]
     },
     "execution_count": 1,
     "metadata": {},
     "output_type": "execute_result"
    }
   ],
   "source": [
    "get_book_title(9791191266054)"
   ]
  },
  {
   "cell_type": "code",
   "execution_count": 41,
   "id": "89ff3325",
   "metadata": {
    "execution": {
     "iopub.execute_input": "2021-09-07T02:39:44.246689Z",
     "iopub.status.busy": "2021-09-07T02:39:44.245996Z",
     "iopub.status.idle": "2021-09-07T02:39:44.248602Z",
     "shell.execute_reply": "2021-09-07T02:39:44.249320Z"
    }
   },
   "outputs": [],
   "source": [
    "def get_book_info(isbn, title=None, author=None, pub=None, year=-1):\n",
    "    # 교보문고 도서 상세 페이지 URL\n",
    "    url = 'https://www.kyobobook.co.kr/product/detailViewKor.laf?barcode={}'\n",
    "    # URL에 ISBN을 넣어 HTML 가져옵니다.\n",
    "    r = requests.get(url.format(isbn))\n",
    "    soup = BeautifulSoup(r.text, 'html.parser')   # HTML 파싱\n",
    "    try:\n",
    "        if pd.isna(title):\n",
    "            # title 헤더 아래 strong 태그의 텍스트를 가져옵니다.\n",
    "            title = soup.find('h1', attrs={'class':'title'}) \\\n",
    "                        .find('strong') \\\n",
    "                        .get_text() \\\n",
    "                        .strip()\n",
    "    except AttributeError:\n",
    "        pass\n",
    "\n",
    "    try:\n",
    "        if pd.isna(author):\n",
    "            # div 태그 아래 a 태그의 텍스트를 가져옵니다.\n",
    "            author = soup.find('div', attrs={'class':'author'}) \\\n",
    "                         .find('a', attrs={'class':'detail_author'}) \\\n",
    "                         .get_text() \\\n",
    "                         .strip()\n",
    "    except AttributeError:\n",
    "        pass\n",
    "    \n",
    "    try:\n",
    "        if pd.isna(pub):\n",
    "            # div 태그 아래 a 태그의 텍스트를 가져옵니다.\n",
    "            pub = soup.find('div', attrs={'class':'author'}) \\\n",
    "                      .find('span', attrs={'title':'출판사'}) \\\n",
    "                      .find('a') \\\n",
    "                      .get_text() \\\n",
    "                      .strip()\n",
    "    except AttributeError:\n",
    "        pass\n",
    "    \n",
    "    try:\n",
    "        if year == -1:\n",
    "            # title 헤더 아래 strong 태그의 텍스트에서 연도를 가져옵니다.\n",
    "            year = soup.find('div', attrs={'class':'author'}) \\\n",
    "                       .find('span', attrs={'title':'출간일'}) \\\n",
    "                       .get_text() \\\n",
    "                       .strip()[:4]\n",
    "    except AttributeError:\n",
    "        pass\n",
    "\n",
    "    return title, author, pub, year"
   ]
  },
  {
   "cell_type": "code",
   "execution_count": 42,
   "id": "4a7a4e0a",
   "metadata": {
    "execution": {
     "iopub.execute_input": "2021-09-07T02:39:44.254726Z",
     "iopub.status.busy": "2021-09-07T02:39:44.254347Z",
     "iopub.status.idle": "2021-09-07T02:39:45.443762Z",
     "shell.execute_reply": "2021-09-07T02:39:45.443014Z"
    }
   },
   "outputs": [
    {
     "data": {
      "text/html": [
       "<div>\n",
       "<style scoped>\n",
       "    .dataframe tbody tr th:only-of-type {\n",
       "        vertical-align: middle;\n",
       "    }\n",
       "\n",
       "    .dataframe tbody tr th {\n",
       "        vertical-align: top;\n",
       "    }\n",
       "\n",
       "    .dataframe thead th {\n",
       "        text-align: right;\n",
       "    }\n",
       "</style>\n",
       "<table border=\"1\" class=\"dataframe\">\n",
       "  <thead>\n",
       "    <tr style=\"text-align: right;\">\n",
       "      <th></th>\n",
       "      <th>0</th>\n",
       "      <th>1</th>\n",
       "      <th>2</th>\n",
       "      <th>3</th>\n",
       "    </tr>\n",
       "  </thead>\n",
       "  <tbody>\n",
       "    <tr>\n",
       "      <th>78</th>\n",
       "      <td>아산 정주영 레거시</td>\n",
       "      <td>김화진</td>\n",
       "      <td>서울대학교출판문화원</td>\n",
       "      <td>2021</td>\n",
       "    </tr>\n",
       "    <tr>\n",
       "      <th>265</th>\n",
       "      <td>골목의 시간을 그리다</td>\n",
       "      <td>정명섭.김효찬 지음</td>\n",
       "      <td>초록비책공방</td>\n",
       "      <td>2021</td>\n",
       "    </tr>\n",
       "  </tbody>\n",
       "</table>\n",
       "</div>"
      ],
      "text/plain": [
       "               0           1           2     3\n",
       "78    아산 정주영 레거시         김화진  서울대학교출판문화원  2021\n",
       "265  골목의 시간을 그리다  정명섭.김효찬 지음      초록비책공방  2021"
      ]
     },
     "execution_count": 1,
     "metadata": {},
     "output_type": "execute_result"
    }
   ],
   "source": [
    "updated_sample =  ns_book5[na_rows].head(2).apply(\n",
    "    lambda row: get_book_info(row['ISBN'], row['도서명'], \n",
    "                              row['저자'], row['출판사'], row['발행년도']), \n",
    "    axis=1, result_type ='expand')\n",
    "updated_sample"
   ]
  },
  {
   "cell_type": "markdown",
   "id": "20267a38",
   "metadata": {},
   "source": [
    "아래 코드 셀은 실행하는데 시간이 오래 걸립니다. 편의를 위해 실행한 결과를 저장해 놓은 CSV 파일을 사용하겠습니다."
   ]
  },
  {
   "cell_type": "code",
   "execution_count": 43,
   "id": "0b9747c8",
   "metadata": {
    "execution": {
     "iopub.execute_input": "2021-09-07T02:39:45.449094Z",
     "iopub.status.busy": "2021-09-07T02:39:45.448244Z",
     "iopub.status.idle": "2021-09-07T03:02:43.213990Z",
     "shell.execute_reply": "2021-09-07T03:02:43.213226Z"
    }
   },
   "outputs": [
    {
     "data": {
      "text/html": [
       "<div>\n",
       "<style scoped>\n",
       "    .dataframe tbody tr th:only-of-type {\n",
       "        vertical-align: middle;\n",
       "    }\n",
       "\n",
       "    .dataframe tbody tr th {\n",
       "        vertical-align: top;\n",
       "    }\n",
       "\n",
       "    .dataframe thead th {\n",
       "        text-align: right;\n",
       "    }\n",
       "</style>\n",
       "<table border=\"1\" class=\"dataframe\">\n",
       "  <thead>\n",
       "    <tr style=\"text-align: right;\">\n",
       "      <th></th>\n",
       "      <th>도서명</th>\n",
       "      <th>저자</th>\n",
       "      <th>출판사</th>\n",
       "      <th>발행년도</th>\n",
       "    </tr>\n",
       "  </thead>\n",
       "  <tbody>\n",
       "    <tr>\n",
       "      <th>78</th>\n",
       "      <td>아산 정주영 레거시</td>\n",
       "      <td>김화진</td>\n",
       "      <td>서울대학교출판문화원</td>\n",
       "      <td>2021</td>\n",
       "    </tr>\n",
       "    <tr>\n",
       "      <th>265</th>\n",
       "      <td>골목의 시간을 그리다</td>\n",
       "      <td>정명섭.김효찬 지음</td>\n",
       "      <td>초록비책공방</td>\n",
       "      <td>2021</td>\n",
       "    </tr>\n",
       "    <tr>\n",
       "      <th>354</th>\n",
       "      <td>한국인의 맛</td>\n",
       "      <td>정명섭 지음</td>\n",
       "      <td>추수밭</td>\n",
       "      <td>2021</td>\n",
       "    </tr>\n",
       "    <tr>\n",
       "      <th>539</th>\n",
       "      <td>한성부, 달 밝은 밤에</td>\n",
       "      <td>김이삭 지음</td>\n",
       "      <td>고즈넉이엔티</td>\n",
       "      <td>2021</td>\n",
       "    </tr>\n",
       "    <tr>\n",
       "      <th>607</th>\n",
       "      <td>100일 완성 마그마 러시아어 중고급 단어장</td>\n",
       "      <td>러포자 구제 연구소 외 지음</td>\n",
       "      <td>문예림</td>\n",
       "      <td>2021</td>\n",
       "    </tr>\n",
       "  </tbody>\n",
       "</table>\n",
       "</div>"
      ],
      "text/plain": [
       "                          도서명               저자         출판사  발행년도\n",
       "78                 아산 정주영 레거시              김화진  서울대학교출판문화원  2021\n",
       "265               골목의 시간을 그리다       정명섭.김효찬 지음      초록비책공방  2021\n",
       "354                    한국인의 맛           정명섭 지음         추수밭  2021\n",
       "539              한성부, 달 밝은 밤에           김이삭 지음      고즈넉이엔티  2021\n",
       "607  100일 완성 마그마 러시아어 중고급 단어장  러포자 구제 연구소 외 지음         문예림  2021"
      ]
     },
     "execution_count": 1,
     "metadata": {},
     "output_type": "execute_result"
    }
   ],
   "source": [
    "ns_book5_update =  ns_book5[na_rows].apply(\n",
    "    lambda row: get_book_info(row['ISBN'], row['도서명'], \n",
    "                              row['저자'], row['출판사'], row['발행년도']), \n",
    "    axis=1, result_type ='expand')\n",
    "\n",
    "ns_book5_update.columns = ['도서명','저자','출판사','발행년도']\n",
    "ns_book5_update.head()"
   ]
  },
  {
   "cell_type": "code",
   "execution_count": 44,
   "id": "f9c2b096",
   "metadata": {
    "execution": {
     "iopub.execute_input": "2021-09-07T03:02:43.218730Z",
     "iopub.status.busy": "2021-09-07T03:02:43.217865Z",
     "iopub.status.idle": "2021-09-07T03:02:43.271082Z",
     "shell.execute_reply": "2021-09-07T03:02:43.271812Z"
    }
   },
   "outputs": [
    {
     "data": {
      "text/html": [
       "<div>\n",
       "<style scoped>\n",
       "    .dataframe tbody tr th:only-of-type {\n",
       "        vertical-align: middle;\n",
       "    }\n",
       "\n",
       "    .dataframe tbody tr th {\n",
       "        vertical-align: top;\n",
       "    }\n",
       "\n",
       "    .dataframe thead th {\n",
       "        text-align: right;\n",
       "    }\n",
       "</style>\n",
       "<table border=\"1\" class=\"dataframe\">\n",
       "  <thead>\n",
       "    <tr style=\"text-align: right;\">\n",
       "      <th></th>\n",
       "      <th>도서명</th>\n",
       "      <th>저자</th>\n",
       "      <th>출판사</th>\n",
       "      <th>발행년도</th>\n",
       "    </tr>\n",
       "  </thead>\n",
       "  <tbody>\n",
       "    <tr>\n",
       "      <th>78</th>\n",
       "      <td>아산 정주영 레거시</td>\n",
       "      <td>김화진</td>\n",
       "      <td>서울대학교출판문화원</td>\n",
       "      <td>2021</td>\n",
       "    </tr>\n",
       "    <tr>\n",
       "      <th>265</th>\n",
       "      <td>골목의 시간을 그리다</td>\n",
       "      <td>정명섭.김효찬 지음</td>\n",
       "      <td>초록비책공방</td>\n",
       "      <td>2021</td>\n",
       "    </tr>\n",
       "    <tr>\n",
       "      <th>354</th>\n",
       "      <td>한국인의 맛</td>\n",
       "      <td>정명섭 지음</td>\n",
       "      <td>추수밭</td>\n",
       "      <td>2021</td>\n",
       "    </tr>\n",
       "    <tr>\n",
       "      <th>539</th>\n",
       "      <td>한성부, 달 밝은 밤에</td>\n",
       "      <td>김이삭 지음</td>\n",
       "      <td>고즈넉이엔티</td>\n",
       "      <td>2021</td>\n",
       "    </tr>\n",
       "    <tr>\n",
       "      <th>607</th>\n",
       "      <td>100일 완성 마그마 러시아어 중고급 단어장</td>\n",
       "      <td>러포자 구제 연구소 외 지음</td>\n",
       "      <td>문예림</td>\n",
       "      <td>2021</td>\n",
       "    </tr>\n",
       "  </tbody>\n",
       "</table>\n",
       "</div>"
      ],
      "text/plain": [
       "                          도서명               저자         출판사  발행년도\n",
       "78                 아산 정주영 레거시              김화진  서울대학교출판문화원  2021\n",
       "265               골목의 시간을 그리다       정명섭.김효찬 지음      초록비책공방  2021\n",
       "354                    한국인의 맛           정명섭 지음         추수밭  2021\n",
       "539              한성부, 달 밝은 밤에           김이삭 지음      고즈넉이엔티  2021\n",
       "607  100일 완성 마그마 러시아어 중고급 단어장  러포자 구제 연구소 외 지음         문예림  2021"
      ]
     },
     "execution_count": 1,
     "metadata": {},
     "output_type": "execute_result"
    }
   ],
   "source": [
    "ns_book5_update.to_csv('ns_book5_update.csv')\n",
    "pd.read_csv('ns_book5_update.csv', index_col=0).head()"
   ]
  },
  {
   "cell_type": "code",
   "execution_count": 45,
   "id": "960eea51",
   "metadata": {
    "execution": {
     "iopub.execute_input": "2021-09-07T03:02:43.276568Z",
     "iopub.status.busy": "2021-09-07T03:02:43.275664Z",
     "iopub.status.idle": "2021-09-07T03:02:43.279135Z",
     "shell.execute_reply": "2021-09-07T03:02:43.278127Z"
    }
   },
   "outputs": [],
   "source": [
    "# gdown.download('https://bit.ly/ns_book5_update', 'ns_book5_update.csv', quiet=False)\n",
    "\n",
    "# ns_book5_update = pd.read_csv('ns_book5_update.csv', index_col=0)\n",
    "# ns_book5_update.head()"
   ]
  },
  {
   "cell_type": "code",
   "execution_count": 46,
   "id": "b322ab94",
   "metadata": {
    "execution": {
     "iopub.execute_input": "2021-09-07T03:02:43.283526Z",
     "iopub.status.busy": "2021-09-07T03:02:43.282888Z",
     "iopub.status.idle": "2021-09-07T03:02:43.286383Z",
     "shell.execute_reply": "2021-09-07T03:02:43.285539Z"
    }
   },
   "outputs": [],
   "source": [
    "# ns_book5.update(ns_book5_update)\n",
    "\n",
    "# na_rows = ns_book5['도서명'].isna() | ns_book5['저자'].isna() \\\n",
    "#           | ns_book5['출판사'].isna() | ns_book5['발행년도'].eq(-1)\n",
    "# print(na_rows.sum())"
   ]
  },
  {
   "cell_type": "markdown",
   "id": "b6288e5a",
   "metadata": {},
   "source": [
    "## 불필요한 행 삭제하기"
   ]
  },
  {
   "cell_type": "code",
   "execution_count": 47,
   "id": "15b3c89b",
   "metadata": {
    "execution": {
     "iopub.execute_input": "2021-09-07T03:02:43.291015Z",
     "iopub.status.busy": "2021-09-07T03:02:43.290368Z",
     "iopub.status.idle": "2021-09-07T03:02:43.292977Z",
     "shell.execute_reply": "2021-09-07T03:02:43.293789Z"
    }
   },
   "outputs": [],
   "source": [
    "# ns_book6 = ns_book5.dropna(subset=['도서명','저자','출판사'])\n",
    "# ns_book6 = ns_book6[ns_book6['발행년도'] != -1]"
   ]
  },
  {
   "cell_type": "code",
   "execution_count": 48,
   "id": "cf88b055",
   "metadata": {
    "execution": {
     "iopub.execute_input": "2021-09-07T03:02:43.297692Z",
     "iopub.status.busy": "2021-09-07T03:02:43.297061Z",
     "iopub.status.idle": "2021-09-07T03:02:43.299969Z",
     "shell.execute_reply": "2021-09-07T03:02:43.300771Z"
    }
   },
   "outputs": [],
   "source": [
    "# title_author_pub_year_na = ns_book6['도서명'].isna() | ns_book6['저자'].isna() \\\n",
    "#                            | ns_book6['출판사'].isna() | ns_book6['발행년도'].eq(-1)\n",
    "# title_author_pub_year_na.sum()"
   ]
  }
 ],
 "metadata": {
  "kernelspec": {
   "display_name": "TensorFlow 2.5 on Python 3.8 & CUDA 11.3",
   "language": "python",
   "name": "python3"
  },
  "language_info": {
   "codemirror_mode": {
    "name": "ipython",
    "version": 3
   },
   "file_extension": ".py",
   "mimetype": "text/x-python",
   "name": "python",
   "nbconvert_exporter": "python",
   "pygments_lexer": "ipython3",
   "version": "3.8.10"
  }
 },
 "nbformat": 4,
 "nbformat_minor": 5
}
